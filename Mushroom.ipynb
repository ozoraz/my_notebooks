{
 "cells": [
  {
   "cell_type": "markdown",
   "metadata": {},
   "source": [
    "# 大課題 毒キノコの判定 SVM"
   ]
  },
  {
   "cell_type": "markdown",
   "metadata": {},
   "source": [
    "## 導入\n",
    "### 【課題】SVMとは何か\n",
    "SVMとは何か説明できるようになることがテキストの目標のひとつでした。\n",
    "以下の要素を含みながらSVMについて簡潔に説明してください。\n",
    "- どのようなときに使うのか\n",
    "- どのような仕組みなのか\n",
    "- どういった利点欠点があるのか"
   ]
  },
  {
   "cell_type": "markdown",
   "metadata": {},
   "source": [
    "### 答え：\n",
    "#### どのようなときに使うのか\n",
    "　一般的なデータから複雑なデータまで、線形、非線形の分類や回帰を行いたい場合に使う\n",
    "\n",
    "#### どのような仕組みなのか\n",
    " 　データの中で、互いに異なる性質を持つサンプル2点を境界で区切る。このとき、最も近い距離にあるサンプル2点をサポートベクタ、サポートベクタ間の距離をマージンと呼ぶ。境界は、線や平面であり、高次元の場合には超平面になる。  \n",
    "　分類の場合には、マージンをどれだけ広くとれるか、データをどれだけ誤りなく区切ることができるか、の主に２つの基準からサポートベクタと境界を求める。  \n",
    "　回帰の場合には、マージンをどれだけ狭くとれるか、データをどれだけマージン内に収めることができるか、の主に２つの基準からサポートベクタと境界を求める\n",
    " \n",
    "#### どういった利点欠点があるのか\n",
    "##### 利点\n",
    "- マージンの最大化(分類)・最小化(回帰)が考慮されているので、未学習データに対しての識別性能が高い。つまり汎化能力が高い\n",
    "- 高次元空間への写像を行うことで複雑な問題に対処できるので、特徴量が多くても精度が高い  \n",
    "\n",
    "##### 欠点\n",
    "- 多クラスの分類には一工夫が必要になる\n",
    "- 学習サンプル数が増えると計算量が増大する"
   ]
  },
  {
   "cell_type": "code",
   "execution_count": 1,
   "metadata": {
    "collapsed": true
   },
   "outputs": [],
   "source": [
    "import numpy as np\n",
    "import pandas as pd\n",
    "\n",
    "import matplotlib.pyplot as plt\n",
    "%matplotlib inline\n",
    "\n",
    "from IPython.display import display\n",
    "\n",
    "from sklearn import svm\n",
    "\n",
    "from sklearn import preprocessing as sp\n",
    "from sklearn.model_selection import train_test_split\n",
    "from sklearn.model_selection import GridSearchCV\n",
    "\n",
    "from sklearn.metrics import accuracy_score, recall_score, precision_score\n",
    "\n",
    "# 表示を省略しない\n",
    "pd.set_option(\"display.max_rows\", 500)\n",
    "pd.set_option(\"display.max_columns\", 500)"
   ]
  },
  {
   "cell_type": "markdown",
   "metadata": {},
   "source": [
    "## データの取得\n",
    "UCIのMushroom Data Setを使用します。  \n",
    "[UCI Machine Learning Repository: Mushroom Data Set](https://archive.ics.uci.edu/ml/datasets/Mushroom)  \n",
    "\n",
    "23種類のキノコについての8124のサンプルが集められたデータセットです。特徴量は22個で、ターゲットはedible（食べられる）、poisonous（毒がある）の二種類です。\n",
    "### 【課題】データを取得する\n",
    "pandasで上記ページにあるファイルを読み込んでください。"
   ]
  },
  {
   "cell_type": "code",
   "execution_count": 2,
   "metadata": {
    "collapsed": true
   },
   "outputs": [],
   "source": [
    "# データを読み込むコードを記述\n",
    "# 'target'を除くカラム名は、データに付属するData Set Descriptionから取り出した\n",
    "data = pd.read_csv(\n",
    "    'https://archive.ics.uci.edu/ml/machine-learning-databases/mushroom/agaricus-lepiota.data', \n",
    "    names=['target', 'cap-shape', 'cap-surface', 'cap-color', 'bruises', 'odor', \n",
    "           'gill-attachment', 'gill-spacing', 'gill-size', 'gill-color', 'stalk-shape', 'stalk-root', \n",
    "          'stalk-surface-above-ring', 'stalk-surface-below-ring', 'stalk-color-above-ring', \n",
    "          'stalk-color-below-ring', 'veil-type', 'veil-color', 'ring-number', 'ring-type', \n",
    "          'spore-print-color', 'population', 'habitat'], \n",
    "    encoding='utf-8')"
   ]
  },
  {
   "cell_type": "code",
   "execution_count": 3,
   "metadata": {
    "collapsed": false
   },
   "outputs": [
    {
     "data": {
      "text/html": [
       "<div>\n",
       "<style scoped>\n",
       "    .dataframe tbody tr th:only-of-type {\n",
       "        vertical-align: middle;\n",
       "    }\n",
       "\n",
       "    .dataframe tbody tr th {\n",
       "        vertical-align: top;\n",
       "    }\n",
       "\n",
       "    .dataframe thead th {\n",
       "        text-align: right;\n",
       "    }\n",
       "</style>\n",
       "<table border=\"1\" class=\"dataframe\">\n",
       "  <thead>\n",
       "    <tr style=\"text-align: right;\">\n",
       "      <th></th>\n",
       "      <th>target</th>\n",
       "      <th>cap-shape</th>\n",
       "      <th>cap-surface</th>\n",
       "      <th>cap-color</th>\n",
       "      <th>bruises</th>\n",
       "      <th>odor</th>\n",
       "      <th>gill-attachment</th>\n",
       "      <th>gill-spacing</th>\n",
       "      <th>gill-size</th>\n",
       "      <th>gill-color</th>\n",
       "      <th>stalk-shape</th>\n",
       "      <th>stalk-root</th>\n",
       "      <th>stalk-surface-above-ring</th>\n",
       "      <th>stalk-surface-below-ring</th>\n",
       "      <th>stalk-color-above-ring</th>\n",
       "      <th>stalk-color-below-ring</th>\n",
       "      <th>veil-type</th>\n",
       "      <th>veil-color</th>\n",
       "      <th>ring-number</th>\n",
       "      <th>ring-type</th>\n",
       "      <th>spore-print-color</th>\n",
       "      <th>population</th>\n",
       "      <th>habitat</th>\n",
       "    </tr>\n",
       "  </thead>\n",
       "  <tbody>\n",
       "    <tr>\n",
       "      <th>0</th>\n",
       "      <td>p</td>\n",
       "      <td>x</td>\n",
       "      <td>s</td>\n",
       "      <td>n</td>\n",
       "      <td>t</td>\n",
       "      <td>p</td>\n",
       "      <td>f</td>\n",
       "      <td>c</td>\n",
       "      <td>n</td>\n",
       "      <td>k</td>\n",
       "      <td>e</td>\n",
       "      <td>e</td>\n",
       "      <td>s</td>\n",
       "      <td>s</td>\n",
       "      <td>w</td>\n",
       "      <td>w</td>\n",
       "      <td>p</td>\n",
       "      <td>w</td>\n",
       "      <td>o</td>\n",
       "      <td>p</td>\n",
       "      <td>k</td>\n",
       "      <td>s</td>\n",
       "      <td>u</td>\n",
       "    </tr>\n",
       "    <tr>\n",
       "      <th>1</th>\n",
       "      <td>e</td>\n",
       "      <td>x</td>\n",
       "      <td>s</td>\n",
       "      <td>y</td>\n",
       "      <td>t</td>\n",
       "      <td>a</td>\n",
       "      <td>f</td>\n",
       "      <td>c</td>\n",
       "      <td>b</td>\n",
       "      <td>k</td>\n",
       "      <td>e</td>\n",
       "      <td>c</td>\n",
       "      <td>s</td>\n",
       "      <td>s</td>\n",
       "      <td>w</td>\n",
       "      <td>w</td>\n",
       "      <td>p</td>\n",
       "      <td>w</td>\n",
       "      <td>o</td>\n",
       "      <td>p</td>\n",
       "      <td>n</td>\n",
       "      <td>n</td>\n",
       "      <td>g</td>\n",
       "    </tr>\n",
       "    <tr>\n",
       "      <th>2</th>\n",
       "      <td>e</td>\n",
       "      <td>b</td>\n",
       "      <td>s</td>\n",
       "      <td>w</td>\n",
       "      <td>t</td>\n",
       "      <td>l</td>\n",
       "      <td>f</td>\n",
       "      <td>c</td>\n",
       "      <td>b</td>\n",
       "      <td>n</td>\n",
       "      <td>e</td>\n",
       "      <td>c</td>\n",
       "      <td>s</td>\n",
       "      <td>s</td>\n",
       "      <td>w</td>\n",
       "      <td>w</td>\n",
       "      <td>p</td>\n",
       "      <td>w</td>\n",
       "      <td>o</td>\n",
       "      <td>p</td>\n",
       "      <td>n</td>\n",
       "      <td>n</td>\n",
       "      <td>m</td>\n",
       "    </tr>\n",
       "    <tr>\n",
       "      <th>3</th>\n",
       "      <td>p</td>\n",
       "      <td>x</td>\n",
       "      <td>y</td>\n",
       "      <td>w</td>\n",
       "      <td>t</td>\n",
       "      <td>p</td>\n",
       "      <td>f</td>\n",
       "      <td>c</td>\n",
       "      <td>n</td>\n",
       "      <td>n</td>\n",
       "      <td>e</td>\n",
       "      <td>e</td>\n",
       "      <td>s</td>\n",
       "      <td>s</td>\n",
       "      <td>w</td>\n",
       "      <td>w</td>\n",
       "      <td>p</td>\n",
       "      <td>w</td>\n",
       "      <td>o</td>\n",
       "      <td>p</td>\n",
       "      <td>k</td>\n",
       "      <td>s</td>\n",
       "      <td>u</td>\n",
       "    </tr>\n",
       "    <tr>\n",
       "      <th>4</th>\n",
       "      <td>e</td>\n",
       "      <td>x</td>\n",
       "      <td>s</td>\n",
       "      <td>g</td>\n",
       "      <td>f</td>\n",
       "      <td>n</td>\n",
       "      <td>f</td>\n",
       "      <td>w</td>\n",
       "      <td>b</td>\n",
       "      <td>k</td>\n",
       "      <td>t</td>\n",
       "      <td>e</td>\n",
       "      <td>s</td>\n",
       "      <td>s</td>\n",
       "      <td>w</td>\n",
       "      <td>w</td>\n",
       "      <td>p</td>\n",
       "      <td>w</td>\n",
       "      <td>o</td>\n",
       "      <td>e</td>\n",
       "      <td>n</td>\n",
       "      <td>a</td>\n",
       "      <td>g</td>\n",
       "    </tr>\n",
       "  </tbody>\n",
       "</table>\n",
       "</div>"
      ],
      "text/plain": [
       "  target cap-shape cap-surface cap-color bruises odor gill-attachment  \\\n",
       "0      p         x           s         n       t    p               f   \n",
       "1      e         x           s         y       t    a               f   \n",
       "2      e         b           s         w       t    l               f   \n",
       "3      p         x           y         w       t    p               f   \n",
       "4      e         x           s         g       f    n               f   \n",
       "\n",
       "  gill-spacing gill-size gill-color stalk-shape stalk-root  \\\n",
       "0            c         n          k           e          e   \n",
       "1            c         b          k           e          c   \n",
       "2            c         b          n           e          c   \n",
       "3            c         n          n           e          e   \n",
       "4            w         b          k           t          e   \n",
       "\n",
       "  stalk-surface-above-ring stalk-surface-below-ring stalk-color-above-ring  \\\n",
       "0                        s                        s                      w   \n",
       "1                        s                        s                      w   \n",
       "2                        s                        s                      w   \n",
       "3                        s                        s                      w   \n",
       "4                        s                        s                      w   \n",
       "\n",
       "  stalk-color-below-ring veil-type veil-color ring-number ring-type  \\\n",
       "0                      w         p          w           o         p   \n",
       "1                      w         p          w           o         p   \n",
       "2                      w         p          w           o         p   \n",
       "3                      w         p          w           o         p   \n",
       "4                      w         p          w           o         e   \n",
       "\n",
       "  spore-print-color population habitat  \n",
       "0                 k          s       u  \n",
       "1                 n          n       g  \n",
       "2                 n          n       m  \n",
       "3                 k          s       u  \n",
       "4                 n          a       g  "
      ]
     },
     "execution_count": 3,
     "metadata": {},
     "output_type": "execute_result"
    }
   ],
   "source": [
    "data.head()"
   ]
  },
  {
   "cell_type": "markdown",
   "metadata": {},
   "source": [
    "## 前処理\n",
    "### 【課題】データの変換\n",
    "このデータセットではターゲットも特徴量も全て文字列なので、SVMで利用できるようにそれらを整数に変換しましょう。sklearn.preprocessingの中のメソッドが利用できます。"
   ]
  },
  {
   "cell_type": "code",
   "execution_count": 4,
   "metadata": {
    "collapsed": false
   },
   "outputs": [],
   "source": [
    "#文字列から整数へ変換するコードを記述\n",
    "le = sp.LabelEncoder()\n",
    "for column in data.columns:\n",
    "    data[column] = le.fit_transform(data[column])"
   ]
  },
  {
   "cell_type": "markdown",
   "metadata": {},
   "source": [
    "### 【課題】データセットの分割\n",
    "testデータとtrainデータに分割しましょう。"
   ]
  },
  {
   "cell_type": "code",
   "execution_count": 5,
   "metadata": {
    "collapsed": false
   },
   "outputs": [],
   "source": [
    "#データセットを分割するコードの記述\n",
    "X = data.drop('target', axis=1)\n",
    "y = data.target\n",
    "\n",
    "X_train, X_test, y_train, y_test = train_test_split(X, y, test_size=0.2, random_state=0)"
   ]
  },
  {
   "cell_type": "markdown",
   "metadata": {},
   "source": [
    "### 【課題】標準化\n",
    "SVMを行う前にデータの標準化をしましょう。Feature Scalingのテキストを参考にしてください。また、なぜSVMを行う際に標準化が必要なのか説明してください。"
   ]
  },
  {
   "cell_type": "code",
   "execution_count": 6,
   "metadata": {
    "collapsed": true
   },
   "outputs": [],
   "source": [
    "#標準化を行うコードを記述\n",
    "stdsc = sp.StandardScaler()\n",
    "\n",
    "X_train_std = stdsc.fit_transform(X_train)\n",
    "X_test_std = stdsc.transform(X_test)"
   ]
  },
  {
   "cell_type": "markdown",
   "metadata": {},
   "source": [
    "#### なぜSVMを行う際に標準化が必要なのか\n",
    "　SVMは、勾配法を用いたモデルであり、モデルの各係数の大小は、対応する特徴量の値の大小に影響される。一般的に、特徴量ごとの測定単位や尺度はバラバラであるため、そのままモデルをつくった場合の係数が偏り、モデルの信頼性が下がる。このため、SVMのモデルをつくる際には、全ての特徴量を統一の基準で扱わなければならない。これ故に、特徴量の平均を0、分散を1の統一基準で扱える、標準化が必要である"
   ]
  },
  {
   "cell_type": "markdown",
   "metadata": {},
   "source": [
    "## ハイパーパラメータの調整\n",
    "### 【課題】カーネルとは何か\n",
    "SVMにおいて重要になってくるカーネルとは何でしょうか。簡潔に説明してください。また、カーネルはどう使い分けるのが良いか調べて記述してください。"
   ]
  },
  {
   "cell_type": "markdown",
   "metadata": {},
   "source": [
    "### 答え：\n",
    "#### カーネルとは何か\n",
    "実データを高次元空間へと写像する際の内積計算を肩代わりする関数のこと\n",
    " \n",
    "#### どう使い分けるのが良いか\n",
    "　計算コストのかかる内積計算を肩代わりするという性質上、そのまま内積計算するより以下の計算コストで写像を実現できるカーネルが望ましい。  \n",
    "　しかし、一般的に用いられるRBFカーネルは高い表現力ゆえに比較的過学習しやすく、多項式カーネルは表現力は高いがハイパーパラメータが4つでグリッドサーチの負担が大きい、 線形カーネルはそのまま内積計算を行う故に高次元化は確実であるが計算コストがかかる、といったように各カーネルには一長一短ある。  \n",
    "　各カーネルの特性を理解の上で、計算コスト、表現力、過学習を防止できるか、グリッドサーチでハイパーパラメータを特定する処理コスト、などを考慮して使い分けるのが良いと考える"
   ]
  },
  {
   "cell_type": "markdown",
   "metadata": {
    "collapsed": true
   },
   "source": [
    "### 【課題】コストペナルティCとは何か\n",
    "ハイパーパラメータとして設定するコストペナルティCについて簡潔に説明してください。"
   ]
  },
  {
   "cell_type": "markdown",
   "metadata": {},
   "source": [
    "### 答え：\n",
    "　SVMの誤分類に対するペナルティ。これを大きく設定するほど、誤分類に対して厳しいモデルになる。誤分類に厳しければマージンを広く取れなくなるため、過学習になり易いモデルになるとも云える"
   ]
  },
  {
   "cell_type": "markdown",
   "metadata": {},
   "source": [
    "### 【課題】ハイパーパラメータを調整する\n",
    "この大課題の中で一番重要な部分です。  \n",
    "テキストでは実装しませんでしたが、SVMには様々なハイパーパラメータが存在し、その設定によって結果に違いが出ることを学びました。グリッドサーチを行うことでハイパーパラメータを決定してください。なお、実行にはある程度時間がかかることが予想されます。  \n",
    "カーネルもハイパーパラメータのひとつと考えられます。"
   ]
  },
  {
   "cell_type": "code",
   "execution_count": 7,
   "metadata": {
    "collapsed": false
   },
   "outputs": [
    {
     "name": "stdout",
     "output_type": "stream",
     "text": [
      "{'C': 5.0, 'gamma': 0.011363636363636364}\n",
      "1.0\n"
     ]
    }
   ],
   "source": [
    "#グリッドサーチのコードを記述\n",
    "svc = svm.SVC()\n",
    "\n",
    "# 各パラメータは、全カーネルを含めて十数回調整しました\n",
    "# そのうちに1.0の結果が出たので、以下に落ち着けました\n",
    "parameters = {\n",
    "    'C': [5.0, 5.1, 5.2], \n",
    "    'gamma': [0.25/22, 0.30/22, 0.35/22]}\n",
    "\n",
    "clf = GridSearchCV(svc, parameters, cv=5)\n",
    "clf.fit(X_train_std, y_train)\n",
    "\n",
    "print(clf.best_params_)\n",
    "print(clf.best_score_)"
   ]
  },
  {
   "cell_type": "markdown",
   "metadata": {},
   "source": [
    "## SVMの実行\n",
    "### 【課題】学習およびテスト\n",
    "選択したハイパーパラメータを利用して、学習およびテストを行ってください。精度も表示しましょう。"
   ]
  },
  {
   "cell_type": "code",
   "execution_count": 8,
   "metadata": {
    "collapsed": false
   },
   "outputs": [
    {
     "name": "stdout",
     "output_type": "stream",
     "text": [
      "(予測[毒]結果[毒] + 予測[食]結果[食]) / 全体： 1.0\n",
      "予測[毒]結果[毒] / 結果[毒]： 1.0\n",
      "予測[毒]結果[毒] / 予測[毒]： 1.0\n"
     ]
    }
   ],
   "source": [
    "#SVMの学習およびテストをするコードを記述\n",
    "\n",
    "# 学習\n",
    "svc_h = svm.SVC(C=5.0, gamma=0.30/22)\n",
    "svc_h.fit(X_train_std, y_train)\n",
    "\n",
    "# 予測\n",
    "y_pred = svc_h.predict(X_test_std)\n",
    "\n",
    "# テスト（accuracy, recall, precision）\n",
    "# accuracy\n",
    "print('(予測[毒]結果[毒] + 予測[食]結果[食]) / 全体： ' + str(accuracy_score(y_test, y_pred)))\n",
    "\n",
    "# recall\n",
    "print('予測[毒]結果[毒] / 結果[毒]： ' + str(recall_score(y_test, y_pred)))\n",
    "\n",
    "# precision\n",
    "print('予測[毒]結果[毒] / 予測[毒]： ' + str(precision_score(y_test, y_pred)))"
   ]
  }
 ],
 "metadata": {
  "kernelspec": {
   "display_name": "Python 3",
   "language": "python",
   "name": "python3"
  },
  "language_info": {
   "codemirror_mode": {
    "name": "ipython",
    "version": 3
   },
   "file_extension": ".py",
   "mimetype": "text/x-python",
   "name": "python",
   "nbconvert_exporter": "python",
   "pygments_lexer": "ipython3",
   "version": "3.6.0"
  }
 },
 "nbformat": 4,
 "nbformat_minor": 2
}
