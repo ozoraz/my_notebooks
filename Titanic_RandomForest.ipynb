{
 "cells": [
  {
   "cell_type": "markdown",
   "metadata": {},
   "source": [
    "# 課題 タイタニック生存予測 ランダムフォレスト"
   ]
  },
  {
   "cell_type": "markdown",
   "metadata": {},
   "source": [
    "## データ取得\n",
    "https://www.kaggle.com/c/titanic/data\n",
    "より,train.csvをダウンロードして、Jupyter Notebookと同じフォルダに保存しましょう。"
   ]
  },
  {
   "cell_type": "code",
   "execution_count": 1,
   "metadata": {
    "collapsed": false
   },
   "outputs": [
    {
     "name": "stdout",
     "output_type": "stream",
     "text": [
      "test.csv   train.csv\r\n"
     ]
    }
   ],
   "source": [
    "ls ./input"
   ]
  },
  {
   "cell_type": "markdown",
   "metadata": {},
   "source": [
    "## データ読み込み\n",
    "pandasを使用して、ダウンロードしたcsvファイルを読み込みましょう。"
   ]
  },
  {
   "cell_type": "code",
   "execution_count": 2,
   "metadata": {
    "collapsed": true
   },
   "outputs": [],
   "source": [
    "import pandas as pd \n",
    "data_train = pd.read_csv('./input/train.csv')\n",
    "data_test = pd.read_csv('./input/test.csv')"
   ]
  },
  {
   "cell_type": "markdown",
   "metadata": {},
   "source": [
    "### データ確認\n",
    "データを読みこむことができたら、前処理や可視化を行っていくため、データの現状を確認しましょう。"
   ]
  },
  {
   "cell_type": "code",
   "execution_count": 3,
   "metadata": {
    "collapsed": false
   },
   "outputs": [
    {
     "data": {
      "text/html": [
       "<div>\n",
       "<table border=\"1\" class=\"dataframe\">\n",
       "  <thead>\n",
       "    <tr style=\"text-align: right;\">\n",
       "      <th></th>\n",
       "      <th>PassengerId</th>\n",
       "      <th>Survived</th>\n",
       "      <th>Pclass</th>\n",
       "      <th>Name</th>\n",
       "      <th>Sex</th>\n",
       "      <th>Age</th>\n",
       "      <th>SibSp</th>\n",
       "      <th>Parch</th>\n",
       "      <th>Ticket</th>\n",
       "      <th>Fare</th>\n",
       "      <th>Cabin</th>\n",
       "      <th>Embarked</th>\n",
       "    </tr>\n",
       "  </thead>\n",
       "  <tbody>\n",
       "    <tr>\n",
       "      <th>0</th>\n",
       "      <td>1</td>\n",
       "      <td>0</td>\n",
       "      <td>3</td>\n",
       "      <td>Braund, Mr. Owen Harris</td>\n",
       "      <td>male</td>\n",
       "      <td>22.0</td>\n",
       "      <td>1</td>\n",
       "      <td>0</td>\n",
       "      <td>A/5 21171</td>\n",
       "      <td>7.2500</td>\n",
       "      <td>NaN</td>\n",
       "      <td>S</td>\n",
       "    </tr>\n",
       "    <tr>\n",
       "      <th>1</th>\n",
       "      <td>2</td>\n",
       "      <td>1</td>\n",
       "      <td>1</td>\n",
       "      <td>Cumings, Mrs. John Bradley (Florence Briggs Th...</td>\n",
       "      <td>female</td>\n",
       "      <td>38.0</td>\n",
       "      <td>1</td>\n",
       "      <td>0</td>\n",
       "      <td>PC 17599</td>\n",
       "      <td>71.2833</td>\n",
       "      <td>C85</td>\n",
       "      <td>C</td>\n",
       "    </tr>\n",
       "    <tr>\n",
       "      <th>2</th>\n",
       "      <td>3</td>\n",
       "      <td>1</td>\n",
       "      <td>3</td>\n",
       "      <td>Heikkinen, Miss. Laina</td>\n",
       "      <td>female</td>\n",
       "      <td>26.0</td>\n",
       "      <td>0</td>\n",
       "      <td>0</td>\n",
       "      <td>STON/O2. 3101282</td>\n",
       "      <td>7.9250</td>\n",
       "      <td>NaN</td>\n",
       "      <td>S</td>\n",
       "    </tr>\n",
       "  </tbody>\n",
       "</table>\n",
       "</div>"
      ],
      "text/plain": [
       "   PassengerId  Survived  Pclass  \\\n",
       "0            1         0       3   \n",
       "1            2         1       1   \n",
       "2            3         1       3   \n",
       "\n",
       "                                                Name     Sex   Age  SibSp  \\\n",
       "0                            Braund, Mr. Owen Harris    male  22.0      1   \n",
       "1  Cumings, Mrs. John Bradley (Florence Briggs Th...  female  38.0      1   \n",
       "2                             Heikkinen, Miss. Laina  female  26.0      0   \n",
       "\n",
       "   Parch            Ticket     Fare Cabin Embarked  \n",
       "0      0         A/5 21171   7.2500   NaN        S  \n",
       "1      0          PC 17599  71.2833   C85        C  \n",
       "2      0  STON/O2. 3101282   7.9250   NaN        S  "
      ]
     },
     "execution_count": 3,
     "metadata": {},
     "output_type": "execute_result"
    }
   ],
   "source": [
    "data_train.head(3)"
   ]
  },
  {
   "cell_type": "code",
   "execution_count": 4,
   "metadata": {
    "collapsed": false
   },
   "outputs": [
    {
     "data": {
      "text/html": [
       "<div>\n",
       "<table border=\"1\" class=\"dataframe\">\n",
       "  <thead>\n",
       "    <tr style=\"text-align: right;\">\n",
       "      <th></th>\n",
       "      <th>PassengerId</th>\n",
       "      <th>Survived</th>\n",
       "      <th>Pclass</th>\n",
       "      <th>Age</th>\n",
       "      <th>SibSp</th>\n",
       "      <th>Parch</th>\n",
       "      <th>Fare</th>\n",
       "    </tr>\n",
       "  </thead>\n",
       "  <tbody>\n",
       "    <tr>\n",
       "      <th>count</th>\n",
       "      <td>891.000000</td>\n",
       "      <td>891.000000</td>\n",
       "      <td>891.000000</td>\n",
       "      <td>714.000000</td>\n",
       "      <td>891.000000</td>\n",
       "      <td>891.000000</td>\n",
       "      <td>891.000000</td>\n",
       "    </tr>\n",
       "    <tr>\n",
       "      <th>mean</th>\n",
       "      <td>446.000000</td>\n",
       "      <td>0.383838</td>\n",
       "      <td>2.308642</td>\n",
       "      <td>29.699118</td>\n",
       "      <td>0.523008</td>\n",
       "      <td>0.381594</td>\n",
       "      <td>32.204208</td>\n",
       "    </tr>\n",
       "    <tr>\n",
       "      <th>std</th>\n",
       "      <td>257.353842</td>\n",
       "      <td>0.486592</td>\n",
       "      <td>0.836071</td>\n",
       "      <td>14.526497</td>\n",
       "      <td>1.102743</td>\n",
       "      <td>0.806057</td>\n",
       "      <td>49.693429</td>\n",
       "    </tr>\n",
       "    <tr>\n",
       "      <th>min</th>\n",
       "      <td>1.000000</td>\n",
       "      <td>0.000000</td>\n",
       "      <td>1.000000</td>\n",
       "      <td>0.420000</td>\n",
       "      <td>0.000000</td>\n",
       "      <td>0.000000</td>\n",
       "      <td>0.000000</td>\n",
       "    </tr>\n",
       "    <tr>\n",
       "      <th>25%</th>\n",
       "      <td>223.500000</td>\n",
       "      <td>0.000000</td>\n",
       "      <td>2.000000</td>\n",
       "      <td>20.125000</td>\n",
       "      <td>0.000000</td>\n",
       "      <td>0.000000</td>\n",
       "      <td>7.910400</td>\n",
       "    </tr>\n",
       "    <tr>\n",
       "      <th>50%</th>\n",
       "      <td>446.000000</td>\n",
       "      <td>0.000000</td>\n",
       "      <td>3.000000</td>\n",
       "      <td>28.000000</td>\n",
       "      <td>0.000000</td>\n",
       "      <td>0.000000</td>\n",
       "      <td>14.454200</td>\n",
       "    </tr>\n",
       "    <tr>\n",
       "      <th>75%</th>\n",
       "      <td>668.500000</td>\n",
       "      <td>1.000000</td>\n",
       "      <td>3.000000</td>\n",
       "      <td>38.000000</td>\n",
       "      <td>1.000000</td>\n",
       "      <td>0.000000</td>\n",
       "      <td>31.000000</td>\n",
       "    </tr>\n",
       "    <tr>\n",
       "      <th>max</th>\n",
       "      <td>891.000000</td>\n",
       "      <td>1.000000</td>\n",
       "      <td>3.000000</td>\n",
       "      <td>80.000000</td>\n",
       "      <td>8.000000</td>\n",
       "      <td>6.000000</td>\n",
       "      <td>512.329200</td>\n",
       "    </tr>\n",
       "  </tbody>\n",
       "</table>\n",
       "</div>"
      ],
      "text/plain": [
       "       PassengerId    Survived      Pclass         Age       SibSp  \\\n",
       "count   891.000000  891.000000  891.000000  714.000000  891.000000   \n",
       "mean    446.000000    0.383838    2.308642   29.699118    0.523008   \n",
       "std     257.353842    0.486592    0.836071   14.526497    1.102743   \n",
       "min       1.000000    0.000000    1.000000    0.420000    0.000000   \n",
       "25%     223.500000    0.000000    2.000000   20.125000    0.000000   \n",
       "50%     446.000000    0.000000    3.000000   28.000000    0.000000   \n",
       "75%     668.500000    1.000000    3.000000   38.000000    1.000000   \n",
       "max     891.000000    1.000000    3.000000   80.000000    8.000000   \n",
       "\n",
       "            Parch        Fare  \n",
       "count  891.000000  891.000000  \n",
       "mean     0.381594   32.204208  \n",
       "std      0.806057   49.693429  \n",
       "min      0.000000    0.000000  \n",
       "25%      0.000000    7.910400  \n",
       "50%      0.000000   14.454200  \n",
       "75%      0.000000   31.000000  \n",
       "max      6.000000  512.329200  "
      ]
     },
     "execution_count": 4,
     "metadata": {},
     "output_type": "execute_result"
    }
   ],
   "source": [
    "data_train.describe()"
   ]
  },
  {
   "cell_type": "code",
   "execution_count": 5,
   "metadata": {
    "collapsed": false
   },
   "outputs": [
    {
     "data": {
      "text/html": [
       "<div>\n",
       "<table border=\"1\" class=\"dataframe\">\n",
       "  <thead>\n",
       "    <tr style=\"text-align: right;\">\n",
       "      <th></th>\n",
       "      <th>Name</th>\n",
       "      <th>Sex</th>\n",
       "      <th>Ticket</th>\n",
       "      <th>Cabin</th>\n",
       "      <th>Embarked</th>\n",
       "    </tr>\n",
       "  </thead>\n",
       "  <tbody>\n",
       "    <tr>\n",
       "      <th>count</th>\n",
       "      <td>891</td>\n",
       "      <td>891</td>\n",
       "      <td>891</td>\n",
       "      <td>204</td>\n",
       "      <td>889</td>\n",
       "    </tr>\n",
       "    <tr>\n",
       "      <th>unique</th>\n",
       "      <td>891</td>\n",
       "      <td>2</td>\n",
       "      <td>681</td>\n",
       "      <td>147</td>\n",
       "      <td>3</td>\n",
       "    </tr>\n",
       "    <tr>\n",
       "      <th>top</th>\n",
       "      <td>Lennon, Mr. Denis</td>\n",
       "      <td>male</td>\n",
       "      <td>CA. 2343</td>\n",
       "      <td>B96 B98</td>\n",
       "      <td>S</td>\n",
       "    </tr>\n",
       "    <tr>\n",
       "      <th>freq</th>\n",
       "      <td>1</td>\n",
       "      <td>577</td>\n",
       "      <td>7</td>\n",
       "      <td>4</td>\n",
       "      <td>644</td>\n",
       "    </tr>\n",
       "  </tbody>\n",
       "</table>\n",
       "</div>"
      ],
      "text/plain": [
       "                     Name   Sex    Ticket    Cabin Embarked\n",
       "count                 891   891       891      204      889\n",
       "unique                891     2       681      147        3\n",
       "top     Lennon, Mr. Denis  male  CA. 2343  B96 B98        S\n",
       "freq                    1   577         7        4      644"
      ]
     },
     "execution_count": 5,
     "metadata": {},
     "output_type": "execute_result"
    }
   ],
   "source": [
    "data_train.describe(include=['O'])"
   ]
  },
  {
   "cell_type": "code",
   "execution_count": 6,
   "metadata": {
    "collapsed": false
   },
   "outputs": [
    {
     "name": "stdout",
     "output_type": "stream",
     "text": [
      "<class 'pandas.core.frame.DataFrame'>\n",
      "RangeIndex: 891 entries, 0 to 890\n",
      "Data columns (total 12 columns):\n",
      "PassengerId    891 non-null int64\n",
      "Survived       891 non-null int64\n",
      "Pclass         891 non-null int64\n",
      "Name           891 non-null object\n",
      "Sex            891 non-null object\n",
      "Age            714 non-null float64\n",
      "SibSp          891 non-null int64\n",
      "Parch          891 non-null int64\n",
      "Ticket         891 non-null object\n",
      "Fare           891 non-null float64\n",
      "Cabin          204 non-null object\n",
      "Embarked       889 non-null object\n",
      "dtypes: float64(2), int64(5), object(5)\n",
      "memory usage: 83.6+ KB\n"
     ]
    }
   ],
   "source": [
    "data_train.info()"
   ]
  },
  {
   "cell_type": "markdown",
   "metadata": {},
   "source": [
    "### sample\n",
    "pandas.DataFrame.sampleを使用して、何件か、データを取得し、データを眺めていきましょう。"
   ]
  },
  {
   "cell_type": "code",
   "execution_count": 7,
   "metadata": {
    "collapsed": false
   },
   "outputs": [
    {
     "data": {
      "text/html": [
       "<div>\n",
       "<table border=\"1\" class=\"dataframe\">\n",
       "  <thead>\n",
       "    <tr style=\"text-align: right;\">\n",
       "      <th></th>\n",
       "      <th>PassengerId</th>\n",
       "      <th>Survived</th>\n",
       "      <th>Pclass</th>\n",
       "      <th>Name</th>\n",
       "      <th>Sex</th>\n",
       "      <th>Age</th>\n",
       "      <th>SibSp</th>\n",
       "      <th>Parch</th>\n",
       "      <th>Ticket</th>\n",
       "      <th>Fare</th>\n",
       "      <th>Cabin</th>\n",
       "      <th>Embarked</th>\n",
       "    </tr>\n",
       "  </thead>\n",
       "  <tbody>\n",
       "    <tr>\n",
       "      <th>395</th>\n",
       "      <td>396</td>\n",
       "      <td>0</td>\n",
       "      <td>3</td>\n",
       "      <td>Johansson, Mr. Erik</td>\n",
       "      <td>male</td>\n",
       "      <td>22.0</td>\n",
       "      <td>0</td>\n",
       "      <td>0</td>\n",
       "      <td>350052</td>\n",
       "      <td>7.7958</td>\n",
       "      <td>NaN</td>\n",
       "      <td>S</td>\n",
       "    </tr>\n",
       "    <tr>\n",
       "      <th>85</th>\n",
       "      <td>86</td>\n",
       "      <td>1</td>\n",
       "      <td>3</td>\n",
       "      <td>Backstrom, Mrs. Karl Alfred (Maria Mathilda Gu...</td>\n",
       "      <td>female</td>\n",
       "      <td>33.0</td>\n",
       "      <td>3</td>\n",
       "      <td>0</td>\n",
       "      <td>3101278</td>\n",
       "      <td>15.8500</td>\n",
       "      <td>NaN</td>\n",
       "      <td>S</td>\n",
       "    </tr>\n",
       "    <tr>\n",
       "      <th>201</th>\n",
       "      <td>202</td>\n",
       "      <td>0</td>\n",
       "      <td>3</td>\n",
       "      <td>Sage, Mr. Frederick</td>\n",
       "      <td>male</td>\n",
       "      <td>NaN</td>\n",
       "      <td>8</td>\n",
       "      <td>2</td>\n",
       "      <td>CA. 2343</td>\n",
       "      <td>69.5500</td>\n",
       "      <td>NaN</td>\n",
       "      <td>S</td>\n",
       "    </tr>\n",
       "  </tbody>\n",
       "</table>\n",
       "</div>"
      ],
      "text/plain": [
       "     PassengerId  Survived  Pclass  \\\n",
       "395          396         0       3   \n",
       "85            86         1       3   \n",
       "201          202         0       3   \n",
       "\n",
       "                                                  Name     Sex   Age  SibSp  \\\n",
       "395                                Johansson, Mr. Erik    male  22.0      0   \n",
       "85   Backstrom, Mrs. Karl Alfred (Maria Mathilda Gu...  female  33.0      3   \n",
       "201                                Sage, Mr. Frederick    male   NaN      8   \n",
       "\n",
       "     Parch    Ticket     Fare Cabin Embarked  \n",
       "395      0    350052   7.7958   NaN        S  \n",
       "85       0   3101278  15.8500   NaN        S  \n",
       "201      2  CA. 2343  69.5500   NaN        S  "
      ]
     },
     "execution_count": 7,
     "metadata": {},
     "output_type": "execute_result"
    }
   ],
   "source": [
    "data_train.sample(n=3, random_state=3)"
   ]
  },
  {
   "cell_type": "markdown",
   "metadata": {},
   "source": [
    "## 前処理について記述せよ\n",
    "以下の観点をすべて含めて記述しましょう。\n",
    "\n",
    "- 前処理とは何か\n",
    "- なぜ前処理を行う必要があるのか\n",
    "- 前処理は具体的に何を行うか(3つ以上記述せよ)\n",
    "- 前述した具体的な前処理について、その前処理を行うと何を得ることができるか(記述したそれぞれの前処理例について記述せよ)"
   ]
  },
  {
   "cell_type": "markdown",
   "metadata": {},
   "source": [
    "## 答え：\n",
    "\n",
    "### 前処理とは何か\n",
    "　自分の扱いたいデータを理解し、データを扱いやすい形に整形すること\n",
    " \n",
    "### なぜ前処理を行う必要があるのか\n",
    "　一般的に、取得したそのままのデータは構造的にも論理的にも汚く乱雑であり、モデリングや分析のアルゴリズムを施せる状態になっていない。この問題を解消するために、前処理を行う必要がある\n",
    "\n",
    "### 前処理は具体的に何を行うか(3つ以上記述せよ)\n",
    "- 『データ基本変形』： マージ、ソート、グループ化・集計、行の抽出、列の選択\n",
    "- 『欠損値処理』： 欠損値を含む行・列の除去、平均値・中央値・最頻値で補完、重回帰やランダムフォレストなどの機械学習手法で補完\n",
    "- 『離散化』： クラスタリングや分位点分割などによる連続値の離散化\n",
    "- 『変数変換』： 対数変換、ロジスティック変換、主成分分析、変数同士の演算、クラスタリング、正規化などにより既存変数を変形し、新しい変数をつくる\n",
    "- 『ダミー化』： 多項目離散値をとる列を、複数列の真偽値に変換する\n",
    "- 『データの分割』： 学習用データとテスト用データを別のデータにする\n",
    " \n",
    "### 前述した具体的な前処理について、その前処理を行うと何を得ることができるか(記述したそれぞれの前処理例について記述せよ)\n",
    "- 『データ基本変形』： 不要な情報を除去できる、単一または少数のデータソースに変換できる、データを絞り込める\n",
    "- 『欠損値処理』： 欠損値があることで発生する分析の手間を減らせる、分析結果のブレやバイアスを減らせる\n",
    "- 『離散化』：　離散値を扱う分析モデルを適用できる、 連続値をグループで区分・整理できる\n",
    "- 『変数変換』： より分析にクリティカルな特徴量をつくり出せる、分析結果や予測の精度を向上できる\n",
    "- 『ダミー化』： ダミー化・行列化することで、多値離散値をうまく扱えない分析手法にも対応できる\n",
    "- 『データの分割』： モデルが過学習・未学習になっていないかどうかを検証できる"
   ]
  },
  {
   "cell_type": "markdown",
   "metadata": {},
   "source": [
    "## 2/前処理について記述せよ\n",
    "前処理について記述せよの調査により、データを確認する際にどのような点を見るとよいか、3つ以上記述せよ。"
   ]
  },
  {
   "cell_type": "markdown",
   "metadata": {},
   "source": [
    "## 答え：\n",
    "- 問題解決につながる分析手法を予め複数検討しておき、それらを適用して成果を上げるためにはどのように前処理するべきか、という点\n",
    "- 入手できたデータセットが複数ある場合、少数に統合できないか。また、無駄な列や行を除去できないか、冗長な列や行を統合できないか、という点\n",
    "- 最大値、最小値、平均値、分散、などの統計情報から、欠損値、外れ値、異常値、偏った値などを検知できないか、という点\n",
    "- 表記揺れをはじめとする作り込まれた誤りが混入されていないか、という点\n",
    "- 繰り返されているパターンや、互いに強い相関関係を示す変数がないか、という点"
   ]
  },
  {
   "cell_type": "markdown",
   "metadata": {
    "collapsed": true
   },
   "source": [
    "## 前処理を行う\n",
    "以下のコードを元に前処理を行いましょう。\n",
    "\n",
    "```前処理1```"
   ]
  },
  {
   "cell_type": "code",
   "execution_count": 8,
   "metadata": {
    "collapsed": false
   },
   "outputs": [
    {
     "data": {
      "text/html": [
       "<div>\n",
       "<table border=\"1\" class=\"dataframe\">\n",
       "  <thead>\n",
       "    <tr style=\"text-align: right;\">\n",
       "      <th></th>\n",
       "      <th>PassengerId</th>\n",
       "      <th>Survived</th>\n",
       "      <th>Pclass</th>\n",
       "      <th>Sex</th>\n",
       "      <th>Age</th>\n",
       "      <th>SibSp</th>\n",
       "      <th>Parch</th>\n",
       "      <th>Fare</th>\n",
       "      <th>Cabin</th>\n",
       "      <th>Lname</th>\n",
       "      <th>NamePrefix</th>\n",
       "    </tr>\n",
       "  </thead>\n",
       "  <tbody>\n",
       "    <tr>\n",
       "      <th>0</th>\n",
       "      <td>1</td>\n",
       "      <td>0</td>\n",
       "      <td>3</td>\n",
       "      <td>male</td>\n",
       "      <td>Student</td>\n",
       "      <td>1</td>\n",
       "      <td>0</td>\n",
       "      <td>1_quartile</td>\n",
       "      <td>N</td>\n",
       "      <td>Braund,</td>\n",
       "      <td>Mr.</td>\n",
       "    </tr>\n",
       "    <tr>\n",
       "      <th>1</th>\n",
       "      <td>2</td>\n",
       "      <td>1</td>\n",
       "      <td>1</td>\n",
       "      <td>female</td>\n",
       "      <td>Adult</td>\n",
       "      <td>1</td>\n",
       "      <td>0</td>\n",
       "      <td>4_quartile</td>\n",
       "      <td>C</td>\n",
       "      <td>Cumings,</td>\n",
       "      <td>Mrs.</td>\n",
       "    </tr>\n",
       "    <tr>\n",
       "      <th>2</th>\n",
       "      <td>3</td>\n",
       "      <td>1</td>\n",
       "      <td>3</td>\n",
       "      <td>female</td>\n",
       "      <td>Young Adult</td>\n",
       "      <td>0</td>\n",
       "      <td>0</td>\n",
       "      <td>1_quartile</td>\n",
       "      <td>N</td>\n",
       "      <td>Heikkinen,</td>\n",
       "      <td>Miss.</td>\n",
       "    </tr>\n",
       "    <tr>\n",
       "      <th>3</th>\n",
       "      <td>4</td>\n",
       "      <td>1</td>\n",
       "      <td>1</td>\n",
       "      <td>female</td>\n",
       "      <td>Young Adult</td>\n",
       "      <td>1</td>\n",
       "      <td>0</td>\n",
       "      <td>4_quartile</td>\n",
       "      <td>C</td>\n",
       "      <td>Futrelle,</td>\n",
       "      <td>Mrs.</td>\n",
       "    </tr>\n",
       "    <tr>\n",
       "      <th>4</th>\n",
       "      <td>5</td>\n",
       "      <td>0</td>\n",
       "      <td>3</td>\n",
       "      <td>male</td>\n",
       "      <td>Young Adult</td>\n",
       "      <td>0</td>\n",
       "      <td>0</td>\n",
       "      <td>2_quartile</td>\n",
       "      <td>N</td>\n",
       "      <td>Allen,</td>\n",
       "      <td>Mr.</td>\n",
       "    </tr>\n",
       "  </tbody>\n",
       "</table>\n",
       "</div>"
      ],
      "text/plain": [
       "   PassengerId  Survived  Pclass     Sex          Age  SibSp  Parch  \\\n",
       "0            1         0       3    male      Student      1      0   \n",
       "1            2         1       1  female        Adult      1      0   \n",
       "2            3         1       3  female  Young Adult      0      0   \n",
       "3            4         1       1  female  Young Adult      1      0   \n",
       "4            5         0       3    male  Young Adult      0      0   \n",
       "\n",
       "         Fare Cabin       Lname NamePrefix  \n",
       "0  1_quartile     N     Braund,        Mr.  \n",
       "1  4_quartile     C    Cumings,       Mrs.  \n",
       "2  1_quartile     N  Heikkinen,      Miss.  \n",
       "3  4_quartile     C   Futrelle,       Mrs.  \n",
       "4  2_quartile     N      Allen,        Mr.  "
      ]
     },
     "execution_count": 8,
     "metadata": {},
     "output_type": "execute_result"
    }
   ],
   "source": [
    "def simplify_ages(df):\n",
    "    df.Age = df.Age.fillna(-0.5)\n",
    "    bins = (-1, 0, 5, 12, 18, 25, 35, 60, 120)\n",
    "    group_names = ['Unknown', 'Baby', 'Child', 'Teenager', 'Student', 'Young Adult', 'Adult', 'Senior']\n",
    "    categories = pd.cut(df.Age, bins, labels=group_names)\n",
    "    df.Age = categories\n",
    "    return df\n",
    "\n",
    "def simplify_cabins(df):\n",
    "    df.Cabin = df.Cabin.fillna('N')\n",
    "    df.Cabin = df.Cabin.apply(lambda x: x[0])\n",
    "    return df\n",
    "\n",
    "def simplify_fares(df):\n",
    "    df.Fare = df.Fare.fillna(-0.5)\n",
    "    bins = (-1, 0, 8, 15, 31, 1000)\n",
    "    group_names = ['Unknown', '1_quartile', '2_quartile', '3_quartile', '4_quartile']\n",
    "    categories = pd.cut(df.Fare, bins, labels=group_names)\n",
    "    df.Fare = categories\n",
    "    return df\n",
    "\n",
    "def format_name(df):\n",
    "    df['Lname'] = df.Name.apply(lambda x: x.split(' ')[0])\n",
    "    df['NamePrefix'] = df.Name.apply(lambda x: x.split(' ')[1])\n",
    "    return df    \n",
    "\n",
    "def drop_features(df):\n",
    "    return df.drop(['Ticket', 'Name', 'Embarked'], axis=1)\n",
    "\n",
    "def transform_features(df):\n",
    "    df = simplify_ages(df)\n",
    "    df = simplify_cabins(df)\n",
    "    df = simplify_fares(df)\n",
    "    df = format_name(df)\n",
    "    df = drop_features(df)\n",
    "    return df\n",
    "\n",
    "data_train = transform_features(data_train)\n",
    "data_test = transform_features(data_test)\n",
    "data_train.head()"
   ]
  },
  {
   "cell_type": "markdown",
   "metadata": {},
   "source": [
    "```前処理2```"
   ]
  },
  {
   "cell_type": "code",
   "execution_count": 9,
   "metadata": {
    "collapsed": false
   },
   "outputs": [
    {
     "data": {
      "text/html": [
       "<div>\n",
       "<table border=\"1\" class=\"dataframe\">\n",
       "  <thead>\n",
       "    <tr style=\"text-align: right;\">\n",
       "      <th></th>\n",
       "      <th>PassengerId</th>\n",
       "      <th>Survived</th>\n",
       "      <th>Pclass</th>\n",
       "      <th>Sex</th>\n",
       "      <th>Age</th>\n",
       "      <th>SibSp</th>\n",
       "      <th>Parch</th>\n",
       "      <th>Fare</th>\n",
       "      <th>Cabin</th>\n",
       "      <th>Lname</th>\n",
       "      <th>NamePrefix</th>\n",
       "    </tr>\n",
       "  </thead>\n",
       "  <tbody>\n",
       "    <tr>\n",
       "      <th>0</th>\n",
       "      <td>1</td>\n",
       "      <td>0</td>\n",
       "      <td>3</td>\n",
       "      <td>1</td>\n",
       "      <td>4</td>\n",
       "      <td>1</td>\n",
       "      <td>0</td>\n",
       "      <td>0</td>\n",
       "      <td>7</td>\n",
       "      <td>100</td>\n",
       "      <td>19</td>\n",
       "    </tr>\n",
       "    <tr>\n",
       "      <th>1</th>\n",
       "      <td>2</td>\n",
       "      <td>1</td>\n",
       "      <td>1</td>\n",
       "      <td>0</td>\n",
       "      <td>0</td>\n",
       "      <td>1</td>\n",
       "      <td>0</td>\n",
       "      <td>3</td>\n",
       "      <td>2</td>\n",
       "      <td>182</td>\n",
       "      <td>20</td>\n",
       "    </tr>\n",
       "    <tr>\n",
       "      <th>2</th>\n",
       "      <td>3</td>\n",
       "      <td>1</td>\n",
       "      <td>3</td>\n",
       "      <td>0</td>\n",
       "      <td>7</td>\n",
       "      <td>0</td>\n",
       "      <td>0</td>\n",
       "      <td>0</td>\n",
       "      <td>7</td>\n",
       "      <td>329</td>\n",
       "      <td>16</td>\n",
       "    </tr>\n",
       "    <tr>\n",
       "      <th>3</th>\n",
       "      <td>4</td>\n",
       "      <td>1</td>\n",
       "      <td>1</td>\n",
       "      <td>0</td>\n",
       "      <td>7</td>\n",
       "      <td>1</td>\n",
       "      <td>0</td>\n",
       "      <td>3</td>\n",
       "      <td>2</td>\n",
       "      <td>267</td>\n",
       "      <td>20</td>\n",
       "    </tr>\n",
       "    <tr>\n",
       "      <th>4</th>\n",
       "      <td>5</td>\n",
       "      <td>0</td>\n",
       "      <td>3</td>\n",
       "      <td>1</td>\n",
       "      <td>7</td>\n",
       "      <td>0</td>\n",
       "      <td>0</td>\n",
       "      <td>1</td>\n",
       "      <td>7</td>\n",
       "      <td>15</td>\n",
       "      <td>19</td>\n",
       "    </tr>\n",
       "  </tbody>\n",
       "</table>\n",
       "</div>"
      ],
      "text/plain": [
       "   PassengerId  Survived  Pclass  Sex  Age  SibSp  Parch  Fare  Cabin  Lname  \\\n",
       "0            1         0       3    1    4      1      0     0      7    100   \n",
       "1            2         1       1    0    0      1      0     3      2    182   \n",
       "2            3         1       3    0    7      0      0     0      7    329   \n",
       "3            4         1       1    0    7      1      0     3      2    267   \n",
       "4            5         0       3    1    7      0      0     1      7     15   \n",
       "\n",
       "   NamePrefix  \n",
       "0          19  \n",
       "1          20  \n",
       "2          16  \n",
       "3          20  \n",
       "4          19  "
      ]
     },
     "execution_count": 9,
     "metadata": {},
     "output_type": "execute_result"
    }
   ],
   "source": [
    "from sklearn import preprocessing\n",
    "def encode_features(df_train, df_test):\n",
    "    features = ['Fare', 'Cabin', 'Age', 'Sex', 'Lname', 'NamePrefix']\n",
    "    df_combined = pd.concat([df_train[features], df_test[features]])\n",
    "\n",
    "    for feature in features:\n",
    "        le = preprocessing.LabelEncoder()\n",
    "        le = le.fit(df_combined[feature])\n",
    "        df_train[feature] = le.transform(df_train[feature])\n",
    "        df_test[feature] = le.transform(df_test[feature])\n",
    "    return df_train, df_test\n",
    "\n",
    "data_train, data_test = encode_features(data_train, data_test)\n",
    "data_train.head()"
   ]
  },
  {
   "cell_type": "markdown",
   "metadata": {},
   "source": [
    "## 前処理の内容について記述せよ\n",
    "以下の観点をすべて含めて記述しましょう。\n",
    "```simplify_ages\n",
    "simplify_cabins\n",
    "simplify_fares\n",
    "format_name\n",
    "drop_features\n",
    "encode_features```\n",
    "- 以上のメソッドがそれぞれ何を行っているか記述せよ\n",
    "- それぞれなぜそのようなことを行っているか記述せよ(それによって得られるメリットまで考察すること)"
   ]
  },
  {
   "cell_type": "markdown",
   "metadata": {},
   "source": [
    "## 答え：\n",
    "### <前処理1について>  \n",
    "　学習データとテストデータの両方について、以下のように前処理を行なっている。\n",
    " \n",
    "- simplify_ages関数で、Age列の欠損値を'-0.5'で埋めてから、Age列の値を指定の区分でグループ分けし、それぞれのグループに該当する数値に['Unknown', 'Baby', 'Child', 'Teenager', 'Student', 'Young Adult', 'Adult', 'Senior']のカテゴリー値を割り当て、Age列の中身ごと入れ替えている。これにより、Age列の連続値を離散値に変換してデータの種類を減らし、後工程におけるデータ操作・データ分析の手間や処理量、過学習に陥る可能性を軽減できるメリットがある  \n",
    "\n",
    "\n",
    "- simplify_cabins関数で、Cabin列の欠損値を'N'で埋めてから、Cabin列の各文字列の先頭１文字と元の文字列を入れ替えている。これにより、複数文字だったデータ量を1文字まで削減し、また、データの種類を減らし、後工程におけるデータ操作・データ分析の手間や処理量、過学習に陥る可能性を軽減できるメリットがある  \n",
    "\n",
    "\n",
    "- simplify_fares関数で、Fare列の欠損値を'-0.5'で埋めてから、Fare列の値を指定の区分でグループ分けし、それぞれのグループに該当する数値に['Unknown', '1_quartile', '2_quartile', '3_quartile', '4_quartile']のカテゴリー値を割り当て、Fare列の中身ごと入れ替えている。これにより、Fare列の連続値を離散値に変換してデータの種類を減らし、後工程におけるデータ操作・データ分析の手間や処理量、過学習に陥る可能性を軽減できるメリットがある  \n",
    "\n",
    "\n",
    "- format_name関数で、Name列の各文字列をスペースで分割してリストに格納。リストの1番目の要素と2番目の要素を、それぞれ'Lname'、'NamePrefix'という新しい列にまとめて、データセットに加えている。これにより、元のName列の各名前の文字列から、'苗字'と'称号'の文字列を機械的に取り出すことができる。Name列から、これら２つだけを取り出したので、データ量とデータの種類を減らして後工程におけるデータ操作・データ分析の手間や処理量、過学習に陥る可能性を軽減できるメリットがある。それに加えて、'苗字'を元に家族をグルーピングしたり、'称号'を用いて社会的地位をグルーピングしたりといった、後の分析に使える新しい特徴量を取り出せるというメリットがある  \n",
    "\n",
    "\n",
    "- drop_features関数で、データセットから['Ticket', 'Name', 'Embarked']の３つの列を削除している。これにより、分析に不要と判断した情報を削除して、後工程におけるデータ操作・データ分析の手間や処理量を軽減できるメリットがある。それに加えて、これらの値が分析結果にノイズをもたらす可能性を排除できるというメリットがある  \n",
    "\n",
    "\n",
    "### <前処理2について>  \n",
    "　学習データとテストデータの両方について、以下のように前処理を行なっている。\n",
    "- encode_features関数で、データセットの['Fare', 'Cabin', 'Age', 'Sex', 'Lname', 'NamePrefix']の６つの列について、文字列や文字で示されていたカテゴリー値を、数値(ラベル)で置き換えている。これにより、データセットについて、文字や文字列を扱えない分析手法でも適用できるようになるというメリットがある。また、文字列から数値への変換によるデータ量の削減により、後工程におけるデータ操作・データ分析の手間や処理量、過学習に陥る可能性を軽減できるメリットがある"
   ]
  },
  {
   "cell_type": "markdown",
   "metadata": {
    "collapsed": true
   },
   "source": [
    "## モデル選択について記述せよ\n",
    "今回使用するモデルは決定していますが、モデル選択をする際の演習を行いましょう。\n",
    "\n",
    "- 今回は、生存予測（分類）を行いますが、この分類について使用できそうな手法を4つ以上しらべて記述せよ。\n",
    "- その手法の概要をそれぞれ記述せよ\n",
    "- その手法の長所/短所をそれぞれ3つずつ、記述したすべての手法において記述せよ"
   ]
  },
  {
   "cell_type": "markdown",
   "metadata": {},
   "source": [
    "## 答え：\n",
    "### ①k近傍法\n",
    "#### 概要\n",
    "　分類対象について、その近くにある（近傍の）分類済み対象群の個数を元に分類する。すなわち、k 個の最近傍の分類済み対象群で最も多い分類を、対象の分類に割り当てる。対象は、特徴空間におけるベクトルで示される。分類済み対象群とは、分類ラベルがつけられた特徴空間におけるベクトル群である。近さを測る距離は一般にユークリッド距離が用いられる\n",
    "#### 長所\n",
    "- 距離と近傍のラベルのみにより分類できるため、直感的に理解しやすい\n",
    "- 連続値をとる変数についても適用可能である\n",
    "- データ量が無限に近づくほど、分類精度が高くなる\n",
    "\n",
    "#### 短所\n",
    "- 原理的に、個体数が最も多い分類が採用されやすい\n",
    "- ノイズや不適切な特徴量の影響を受けやすい\n",
    "- 高次元空間は広大になるという所謂「次元の呪い」故に、次数が大きい場合には膨大な数の分類済み対象が必要になる\n",
    "\n",
    "### ②XGBoost\n",
    "#### 概要\n",
    "　XGBoostとは，Gradient BoostingとRandom Forestsを組み合わせたアンサンブル学習である。\n",
    "Boosted treesの予測精度はRandom Forestsよりも向上するが、チューニングが必要なパラメータが複数存在する。一方、Random Forestsはチューニングが不要だが、学習データに依存しやすく、過学習となりやすい\n",
    "\n",
    "#### 長所\n",
    "- 高いスケーリング性を持つend-to-endなtree boostingシステムをもつ\n",
    "- 値が欠損、0が多い、one-hot encodingなどの特殊な処理を施したデータなどについて，予め分岐の方向を決めるアルゴリズムを導入している\n",
    "- CPU外(out-of-core)での学習が可能であり、計算速度が高速化されている\n",
    "\n",
    "#### 短所\n",
    "- 複数のパラメータ調整によるチューニングが必要であり、最適化はグリッドサーチやCross Validationを複数行う\n",
    "- 汎化能力を上げるために、学習率(XGBoostパッケージではパラメータeta)を下げていき、その都度最適化を行う\n",
    "- 線形分離可能パターンに対してはうまく機能しない可能性が高い\n",
    "\n",
    "### ③パーセプトロン\n",
    "#### 概要\n",
    "　入力、中間、出力の3層からなるニューラルネットワークの手法。バックプロパゲーションを用いた学習が一般的。複雑な表現を再現できるが、その分過学習もしやすい。ディープラーニングが登場する前の代表的なニューラルネットワークの手法\n",
    "\n",
    "#### 長所\n",
    "- シンプルなネットワークでありながら学習能力を持つ\n",
    "- 多層パーセプトロンは、誤差逆伝播学習法で学習させることで、線型分離不可能な問題が解けるように、単純パーセプトロンの限界を克服した\n",
    "- 多層パーセプトロンは適応度近似のような極めて複雑な問題に対する近似解をしばしば与える\n",
    "\n",
    "#### 短所\n",
    "- 単純パーセプトロンでは、線形分離可能なものしか学習できない\n",
    "- 階層型ネットワークのパーセプトロンでは、階層が少ないと解けない問題もある\n",
    "- 複雑なネットワークはうまく学習するのがとても難しい。理論的に優れた性能が発揮できるということはわかっていても、そもそも学習ができない\n",
    "\n",
    "### ④サポートベクターマシーン(SVM)\n",
    "#### 概要\n",
    "　線形入力素子を利用して 2 クラスのパターン識別器を構成する手法である。訓練サンプルから、各データ点との距離が最大となるマージン最大化超平面を求めるという基準（超平面分離定理）で線形入力素子のパラメータを学習する\n",
    "\n",
    "#### 長所\n",
    "- 非線形分類問題にも優れた性能を発揮することがわかり、近年特に注目を集めている\n",
    "- 「マージン最大化」というアイデア等で汎化能力も高め、現在知られている方法としては、最も優秀なパターン識別能力を持つとされている\n",
    "- 局所解収束の問題が無い\n",
    "\n",
    "#### 短所\n",
    "- データを2つのグループに分類する問題には優れているが、多クラスの分類にそのまま適用出来ない\n",
    "- カーネル関数の選択の基準も無い等の課題も指摘されている\n",
    "- 計算量が多い\n"
   ]
  },
  {
   "cell_type": "markdown",
   "metadata": {
    "collapsed": true
   },
   "source": [
    "## モデル選択の基準\n",
    "下記の参考資料を元に、どのような視点からモデルを選択すれば良いか、最低でも3つ以上の視点を記述すること(他の参考資料でも構わない、その場合参考資料を明記すること)\n",
    "- https://docs.microsoft.com/ja-jp/azure/machine-learning/machine-learning-algorithm-choice\n",
    "- https://datumstudio.jp/blog/機械学習におけるモデルの選択方法について"
   ]
  },
  {
   "cell_type": "markdown",
   "metadata": {},
   "source": [
    "## 答え：\n",
    "- 精度について、可能な限り最も正確な回答を得ることが常に必要であるとは限らない。 使用目的によっては、近似で十分な場合がある。 その場合は、より大まかな方法を使用することで、処理時間を大幅に削減できることがある。 近似手法のもう 1 つの利点は、一般に 過学習が回避される傾向があることである\n",
    "\n",
    "\n",
    "- トレーニング時間について、モデルのトレーニングに必要な分数または時間数は、アルゴリズムによって大きく異なる。 通常、トレーニング時間は精度と密接に関係する。さらに、一部のアルゴリズムは他よりデータ ポイントの数に大きく影響を受ける。 時間が限られている場合、アルゴリズムの選択を左右することがある。データセットが大きい場合は特にそうである\n",
    "\n",
    "\n",
    "- 線形アルゴリズムは最初に使用する方法として非常に一般的である。 アルゴリズムが簡単で、速くトレーニングできる傾向がある\n",
    "\n",
    "\n",
    "- パラメーターの数について、パラメーターは、アルゴリズムを設定するときに使用する。 エラーの許容範囲や反復回数などのアルゴリズムの動作に影響を与える値、またはアルゴリズムの動作のバリエーションのオプションである。 アルゴリズムのトレーニング時間と精度は、設定の適切さに大きな影響を受けることがある。 通常、パラメーター数の多いアルゴリズムは、適切な組み合わせを見つけるのに多くの試行錯誤が必要である\n",
    "\n",
    "\n",
    "- 分類や回帰問題の手法に着目するとき、モデル選択の評価として重要なのは「予測精度」と「中身のわかりやすさ」の2点である。「予測精度」は学習から得られたモデル(近似関数)が判別や回帰の値をどれだけ正確に出力するかという指標で、学習データのみ精度が高くその他で精度が低い過学習の問題を解消できるならば非線形性を有する手法ほど精度が高い傾向にある。一方「中身のわかりやすさ」は、モデルをひとつの入出力器とみなした場合、入力に相当する説明変数と出力に相当する目的変数(予測値)間の関係が陽に解釈できるかどうかに依存する。入出力の関係性がパラメータなどを通して理解し易いならば、モデルはホワイトボックスとして因果類推に役立つ。このように、分類や回帰問題に対する機械学習の手法は「予測精度」と「中身のわかりやすさ」の基準において各々が長所と短所を有す。したがって分析の目的に応じて手法の特徴を鑑みモデルを選択することが肝要である\n"
   ]
  },
  {
   "cell_type": "markdown",
   "metadata": {},
   "source": [
    "## モデル選択におけるデータ可視化\n",
    "モデルを選択する際にデータ可視化を行い、データの特徴を把握した上で、モデルを選択することができます。今回は、その例を体験してみましょう  \n",
    "```import```"
   ]
  },
  {
   "cell_type": "code",
   "execution_count": 10,
   "metadata": {
    "collapsed": true
   },
   "outputs": [],
   "source": [
    "import matplotlib.pyplot as plt\n",
    "import seaborn as sns\n",
    "%matplotlib inline"
   ]
  },
  {
   "cell_type": "markdown",
   "metadata": {},
   "source": [
    "```barplot```"
   ]
  },
  {
   "cell_type": "code",
   "execution_count": 11,
   "metadata": {
    "collapsed": false
   },
   "outputs": [
    {
     "data": {
      "text/plain": [
       "<matplotlib.axes._subplots.AxesSubplot at 0x11895a208>"
      ]
     },
     "execution_count": 11,
     "metadata": {},
     "output_type": "execute_result"
    },
    {
     "data": {
      "image/png": "[encoded data removed]",
      "text/plain": [
       "<matplotlib.figure.Figure at 0x1188fb588>"
      ]
     },
     "metadata": {},
     "output_type": "display_data"
    }
   ],
   "source": [
    "sns.barplot(x=\"Age\", y=\"Survived\", hue=\"Sex\", data=data_train)"
   ]
  },
  {
   "cell_type": "markdown",
   "metadata": {},
   "source": [
    "```pointplot```"
   ]
  },
  {
   "cell_type": "code",
   "execution_count": 12,
   "metadata": {
    "collapsed": false
   },
   "outputs": [
    {
     "data": {
      "image/png": "[encoded data removed]",
      "text/plain": [
       "<matplotlib.figure.Figure at 0x11bdf3908>"
      ]
     },
     "metadata": {},
     "output_type": "display_data"
    }
   ],
   "source": [
    "sns.pointplot(x=\"Pclass\", y=\"Survived\", hue=\"Sex\", data=data_train,\n",
    "              palette={1: \"blue\", 0: \"pink\"},\n",
    "              markers=[\"*\", \"o\"], linestyles=[\"-\", \"--\"]);"
   ]
  },
  {
   "cell_type": "markdown",
   "metadata": {},
   "source": [
    "## データ可視化の結果について考察せよ\n",
    "以下の観点をすべて含めて記述しましょう。\n",
    "- 上記の２つの可視化から分かったことについて考察せよ。\n",
    "- 上記の考察結果から、モデル選択を考える場合、どのようなことが考えられるか"
   ]
  },
  {
   "cell_type": "markdown",
   "metadata": {},
   "source": [
    "## 答え：\n",
    "\n",
    "### 上記の２つの可視化から分かったことについて考察せよ。\n",
    "　『barplot』より、'Child'の年齢区分を例外としても、全体的に女性の生存率が男性よりも高い。そして'Baby'は男女生存率がどちらも高い。'Child'は男女生存率の高低が全体と逆転している。これらのことから、ほとんどの年齢で女性が優先的に避難・救助されたということ、幼子と子供は男女関係なく優先的に避難・救助されたということが考えられる　　\n",
    "\n",
    "　『pointplot』より、どの'Pclass'であっても、女性の生存率が男性よりも高い。また、男女ともに'Pclass'が高いものほど生存率が高い。これらのことから、男女とも'Pclass'の高いものから優先的に避難・救助されたということが考えられる　　\n",
    "\n",
    "　上記のことから、男女を示す変数'Sex'、年齢区分を示す変数'Age'、乗客の階級を示す変数'Pclass'の３つの変数が、生存予測にあたって影響度が大きい変数と考えられる\n",
    " \n",
    "### 上記の考察結果から、モデル選択を考える場合、どのようなことが考えられるか\n",
    "　生存予測にあたって影響度が大きいと考えられる３つの変数は、実質的に名義尺度であり、演算に意味を持たない離散値である。このことから、分類のモデルであっても連続値を入力とするロジスティック回帰などのモデルは馴染まないと考えられる。また、これら３つの変数が取りうる値はそれぞれ２値、６値、３値とパターンが少ないので、複雑で自由度の高いモデルを選択する必要はないと考えられる"
   ]
  },
  {
   "cell_type": "markdown",
   "metadata": {},
   "source": [
    "## データセットの分割\n",
    "それでは、テストデータの作成を行いましょう。学習データとテストデータの比は8:2とします。"
   ]
  },
  {
   "cell_type": "code",
   "execution_count": 13,
   "metadata": {
    "collapsed": true
   },
   "outputs": [],
   "source": [
    "from sklearn.model_selection import train_test_split\n",
    "\n",
    "X = data_train.drop(['Survived', 'PassengerId'], axis=1)\n",
    "y = data_train['Survived']\n",
    "\n",
    "X_train, X_test, y_train, y_test = train_test_split(X, y, test_size=0.20, random_state=0)"
   ]
  },
  {
   "cell_type": "markdown",
   "metadata": {},
   "source": [
    "## ランダムフォレストについて記述せよ\n",
    "今回は、ランダムフォレストという手法を使用します。\n",
    "\n",
    "以下の観点をすべて含めて記述しましょう。\n",
    "\n",
    "- 決定木とはどのような手法か\n",
    "- ランダムフォレストとはどのような手法か\n",
    "- ランダムフォレストの長所と短所をそれぞれ3つ以上挙げてください。\n",
    "- 今回の目的からランダムフォレストの手法が適する理由を考察し、記述せよ"
   ]
  },
  {
   "cell_type": "markdown",
   "metadata": {},
   "source": [
    "## 答え：\n",
    "### 決定木とはどのような手法か\n",
    "　決定木とは予測モデルであり、ある事項に対する観察結果から、その事項の目標値に関する結論を導く。内部節点は変数に対応し、子節点への枝はその変数の取り得る値を示す。アルゴリズムは、目的変数と説明変数のデータから木構造の分類器を生成し、トップダウンに、再帰的にデータを分割していく。実数値をとる関数の近似に用いる場合には回帰木、分類に用いる場合には分類木と呼ばれる\n",
    " \n",
    "### ランダムフォレストとはどのような手法か\n",
    "　ランダムフォレストは、決定木を複数組み合わせて、各決定木の予測結果を多数決することによって結果を得る、分類、回帰、クラスタリングに用いられるアンサンブル学習である。それぞれの決定木で使う特徴量をランダムに選択することで各決定木の予測結果をバラつかせ、過学習に陥り易いという決定木の弱点を補っている\n",
    "\n",
    "### ランダムフォレストの長所と短所をそれぞれ3つ以上挙げてください。\n",
    "#### 長所\n",
    "- 正規化・標準化を考える必要が無く、連続値・離散値が混在していても使える\n",
    "- 決定木の予測精度を維持したままで、過学習を起こしにくい\n",
    "- 特徴量の重要度を学習とともに計算できる\n",
    "\n",
    "#### 短所\n",
    "- 原理的に、内部の決定木が種類・深さともに多様になるため「中身の分かりやすさ」が確保しにくい\n",
    "- テキストデータなど、高次元で疎なデータに対してはうまく機能しない傾向にある\n",
    "- 線形モデルに比べて、メモリ消費が多い\n",
    "\n",
    "### 今回の目的からランダムフォレストの手法が適する理由を考察し、記述せよ\n",
    "　今回の目的は、タイタニックの乗客データから事故における生存予測を行う分類問題である。学習データが８９１件と少なく、年齢や料金などの連続値や、名前や客室名などの多値離散値が含まれていることから、採用した分類モデルが過学習になりやすいデータであるといえる。ランダムフォレストは、連続値・離散値をともに扱えることに加えて、決定木の予測精度を維持したまま過学習を起こしにくいという長所があるため、この懸案に対処できることになる。また、特徴量の重要度を計算できることから、このような事故において生死を分ける要因を突き止めて、再発防止のための教訓を得ることもできるだろう。こうした理由により、ランダムフォレストの手法はタイタニック生存予測に適していると考える"
   ]
  },
  {
   "cell_type": "markdown",
   "metadata": {},
   "source": [
    "## 学習\n",
    "ランダムフォレストを使用して、学習を行いましょう。  \n",
    "http://scikit-learn.org/stable/modules/generated/sklearn.ensemble.RandomForestClassifier.html"
   ]
  },
  {
   "cell_type": "code",
   "execution_count": 14,
   "metadata": {
    "collapsed": false
   },
   "outputs": [
    {
     "data": {
      "text/plain": [
       "RandomForestClassifier(bootstrap=True, class_weight=None, criterion='gini',\n",
       "            max_depth=None, max_features='auto', max_leaf_nodes=None,\n",
       "            min_impurity_split=1e-07, min_samples_leaf=1,\n",
       "            min_samples_split=2, min_weight_fraction_leaf=0.0,\n",
       "            n_estimators=10, n_jobs=1, oob_score=False, random_state=0,\n",
       "            verbose=0, warm_start=False)"
      ]
     },
     "execution_count": 14,
     "metadata": {},
     "output_type": "execute_result"
    }
   ],
   "source": [
    "from sklearn.ensemble import RandomForestClassifier\n",
    "clf = RandomForestClassifier(random_state=0)\n",
    "clf.fit(X_train, y_train)"
   ]
  },
  {
   "cell_type": "markdown",
   "metadata": {},
   "source": [
    "## accuracyを求めよ\n",
    "学習が終わったら、accuracyを求めましょう。"
   ]
  },
  {
   "cell_type": "code",
   "execution_count": 15,
   "metadata": {
    "collapsed": false
   },
   "outputs": [
    {
     "name": "stdout",
     "output_type": "stream",
     "text": [
      "0.977528089888\n"
     ]
    }
   ],
   "source": [
    "print(clf.score(X_train, y_train))"
   ]
  },
  {
   "cell_type": "markdown",
   "metadata": {},
   "source": [
    "## 精度を高める\n",
    "この課題では75%以上の精度が出ていた場合、合格とします。"
   ]
  },
  {
   "cell_type": "code",
   "execution_count": 16,
   "metadata": {
    "collapsed": false
   },
   "outputs": [
    {
     "name": "stdout",
     "output_type": "stream",
     "text": [
      "0.776536312849\n"
     ]
    }
   ],
   "source": [
    "print(clf.score(X_test, y_test))"
   ]
  },
  {
   "cell_type": "markdown",
   "metadata": {},
   "source": [
    "## ハイパーパラメータについて\n",
    "- ハイパーパラメーターとは何か\n",
    "- ランダムフォレストにおいてどのようなハイパーパラメーターがあるか4つ以上記述せよ\n",
    "- 記述したハイパーパラメーターにおいて、それぞれどのような値が存在するか記述せよ（そのハイパーパラメーターを変化させるとどのようなことが起きるかも記述すること）  \n",
    "\n",
    "http://scikit-learn.org/stable/modules/generated/sklearn.ensemble.RandomForestClassifier.html"
   ]
  },
  {
   "cell_type": "markdown",
   "metadata": {},
   "source": [
    "### ハイパーパラメーターとは何か\n",
    " モデルが学習を行う際に、人間が予め設定しておかなければいけないパラメータのこと。機械学習が自動で決められる範囲の外のパラメータのため、\"ハイパー\"が冠される。調整については、先例や経験に基づいて試行錯誤していく手動調整方法と、ランダムにパラメータを試していくランダムサーチやパラメータ候補を総当たりで調べるグリッドサーチなどの自動調整方法がある\n",
    "\n",
    "### ランダムフォレストにおいてどのようなハイパーパラメーターがあるか4つ以上記述せよ\n",
    "- 『n_estimators』：多数決判断に用いる決定木をいくつ作るか\n",
    "- 『max_features』：特徴量をいくつまで用いるかの最大数\n",
    "- 『max_depth』：多数決判断に用いる決定木の深さの最大数\n",
    "- 『min_samples_split』：多数決判断に用いる決定木の葉ノード内で分割されるサンプルの最小数\n",
    "\n",
    "### 記述したハイパーパラメーターにおいて、それぞれどのような値が存在するか記述せよ\n",
    "- 『n_estimators』：整数値（その数がそのまま採用される）。デフォルト値は１０\n",
    "- 『max_features』：整数値（その数がそのまま採用される）、小数（それと特徴量数を乗算した数が採用される）、“auto”・“sqrt”（特徴量数の平方根が採用される）、“log2”（２を底とする特徴量数の対数が採用される）、None（特徴量数がそのまま採用される）。デフォルト値は“auto”\n",
    "- 『max_depth』：整数値（その数がそのまま採用される）、None（葉ノードの全ての要素が完全に分類されるか、min_samples_splitで指定された数まで分類されるまで深くなる）、デフォルト値はNone\n",
    "- 『min_samples_split』：整数値（その数がそのまま採用される）、小数（それとサンプル数を乗算した数が採用される）。デフォルト値は２"
   ]
  },
  {
   "cell_type": "markdown",
   "metadata": {
    "collapsed": true
   },
   "source": [
    "## チューニング\n",
    "思うような精度が出ていない場合、チューニングを行う必要があります。\n",
    "今回はハイパーパラメーターを変更し、チューニングを行いましょう。\n",
    "以下の観点からチューニングを複数行い、精度の向上を目指します。\n",
    "\n",
    "- 'n_estimators': [4, 6, 9],\n",
    "- 'max_features': ['log2', 'sqrt','auto'],\n",
    "- 'criterion': ['entropy', 'gini'],\n",
    "- 'max_depth': [2, 3, 5, 10],\n",
    "- 'min_samples_split': [2, 3, 5],\n",
    "- 'min_samples_leaf': [1,5,8]  \n",
    "\n",
    "上記は、それぞれのハイパーパラメーターの例を示しています。’n_estimators’であれば、4,6,9を試してみましょう。"
   ]
  },
  {
   "cell_type": "code",
   "execution_count": 17,
   "metadata": {
    "collapsed": false
   },
   "outputs": [
    {
     "data": {
      "text/html": [
       "<div>\n",
       "<table border=\"1\" class=\"dataframe\">\n",
       "  <thead>\n",
       "    <tr style=\"text-align: right;\">\n",
       "      <th></th>\n",
       "      <th>0</th>\n",
       "      <th>1</th>\n",
       "      <th>2</th>\n",
       "      <th>3</th>\n",
       "      <th>4</th>\n",
       "      <th>5</th>\n",
       "      <th>6</th>\n",
       "      <th>7</th>\n",
       "    </tr>\n",
       "  </thead>\n",
       "  <tbody>\n",
       "    <tr>\n",
       "      <th>123</th>\n",
       "      <td>4</td>\n",
       "      <td>sqrt</td>\n",
       "      <td>gini</td>\n",
       "      <td>3</td>\n",
       "      <td>5</td>\n",
       "      <td>1</td>\n",
       "      <td>0.837079</td>\n",
       "      <td>0.854749</td>\n",
       "    </tr>\n",
       "    <tr>\n",
       "      <th>47</th>\n",
       "      <td>4</td>\n",
       "      <td>log2</td>\n",
       "      <td>gini</td>\n",
       "      <td>3</td>\n",
       "      <td>2</td>\n",
       "      <td>8</td>\n",
       "      <td>0.844101</td>\n",
       "      <td>0.854749</td>\n",
       "    </tr>\n",
       "    <tr>\n",
       "      <th>53</th>\n",
       "      <td>4</td>\n",
       "      <td>log2</td>\n",
       "      <td>gini</td>\n",
       "      <td>3</td>\n",
       "      <td>5</td>\n",
       "      <td>8</td>\n",
       "      <td>0.844101</td>\n",
       "      <td>0.854749</td>\n",
       "    </tr>\n",
       "    <tr>\n",
       "      <th>52</th>\n",
       "      <td>4</td>\n",
       "      <td>log2</td>\n",
       "      <td>gini</td>\n",
       "      <td>3</td>\n",
       "      <td>5</td>\n",
       "      <td>5</td>\n",
       "      <td>0.817416</td>\n",
       "      <td>0.854749</td>\n",
       "    </tr>\n",
       "    <tr>\n",
       "      <th>51</th>\n",
       "      <td>4</td>\n",
       "      <td>log2</td>\n",
       "      <td>gini</td>\n",
       "      <td>3</td>\n",
       "      <td>5</td>\n",
       "      <td>1</td>\n",
       "      <td>0.837079</td>\n",
       "      <td>0.854749</td>\n",
       "    </tr>\n",
       "  </tbody>\n",
       "</table>\n",
       "</div>"
      ],
      "text/plain": [
       "     0     1     2  3  4  5         6         7\n",
       "123  4  sqrt  gini  3  5  1  0.837079  0.854749\n",
       "47   4  log2  gini  3  2  8  0.844101  0.854749\n",
       "53   4  log2  gini  3  5  8  0.844101  0.854749\n",
       "52   4  log2  gini  3  5  5  0.817416  0.854749\n",
       "51   4  log2  gini  3  5  1  0.837079  0.854749"
      ]
     },
     "execution_count": 17,
     "metadata": {},
     "output_type": "execute_result"
    }
   ],
   "source": [
    "list = []\n",
    "for h in [4, 6, 9]:\n",
    "    for i in ['log2', 'sqrt','auto']:\n",
    "        for j in ['entropy', 'gini']:\n",
    "            for k in [2, 3, 5, 10]:\n",
    "                for l in  [2, 3, 5]:\n",
    "                    for m in [1,5,8]:\n",
    "                        clf = RandomForestClassifier(random_state=0, \n",
    "                                                     n_estimators=h, max_features=i, criterion=j, \n",
    "                                                     max_depth=k, min_samples_split=l, min_samples_leaf=m)\n",
    "                        clf.fit(X_train, y_train)\n",
    "                        list.append([h, i, j, k, l, m, clf.score(X_train, y_train), \\\n",
    "                                     clf.score(X_test, y_test)])\n",
    "\n",
    "pd.DataFrame(list).sort_values(by=7, ascending=False).head()"
   ]
  },
  {
   "cell_type": "markdown",
   "metadata": {},
   "source": [
    "## 検証について記述せよ\n",
    "機械学習で思うようなAccuracyを求めることができたら、検証を行いましょう。\n",
    "以下の観点をすべて含めて記述しましょう。\n",
    "- 検証は何か\n",
    "- なぜ検証を行う必要があるのか(Accuracyだけではダメな理由も含めること)\n",
    "- 主な検証方法について2つ以上記述せよ"
   ]
  },
  {
   "cell_type": "markdown",
   "metadata": {
    "collapsed": true
   },
   "source": [
    "## 答え：\n",
    "### 検証は何か\n",
    "　モデルが過学習または未学習に陥っていないか、モデルの予測値と実際値の乖離具合がどうなっているか、確認し対策するための工程である\n",
    "\n",
    "### なぜ検証を行う必要があるのか(Accuracyだけではダメな理由も含めること)\n",
    "　分類問題では、必ず２つ以上の分類先がある。つまり、２種類以上の予測値を立てて実際値と比較するのである。Accuracyは(予測が○)で(実際も○)と、(予測が✖️)で(実際も✖️)の２パターンを問題にした評価方法であり、過学習と未学習の検知からモデルの汎化能力を測ることはできる。  \n",
    "　しかし、ここでは、(予測が○)で(実際が✖️)と、(予測が✖️)で(実際が○)という２パターンも捉えなければ、予測値vs実際値の二軸での評価として不十分である。具体的には、後述の２パターンも問題として前述の２パターンと混合し、予測値と実際値の乖離具合がどうなっているかを確認する必要がある。  \n",
    "　上述したように、予測値vs実際値の二軸で、４パターン以上の予測値と実際値の乖離具合を確認した上で、各種パラメータを調整したり適用モデルを変えてみるなどの判断を行い、汎化能力と予測精度をより一層向上させる工夫ができるような検証にしなければならない。  \n",
    "　以上により検証を行うことは必要で、Accuracyだけでは不十分である\n",
    "\n",
    "### 主な検証方法について2つ以上記述せよ\n",
    "- 『ホールドアウト法』は、元のデータセットを学習データとテスタデータに分割し、学習データセットはモデルの学習に使用され、テストデータセットはモデルの性能を評価するために使われる。学習データセットとテストデータの分け方によって性能評価が左右されやすい\n",
    "\n",
    "\n",
    "- 『k分割交差検証』は、データをK個に分割する。そして、そのうちの1つをテストデータとし、残る K−1 個のデータを学習データとする。この際、K個のデータ分割はランダムになる。そして、データ分割が完了したら、実際にK-1のデータセットで学習を行い、1つに分割されたテストデータでテストを行う。この学習、テストの作業を分割されたK個のそれぞれのデータの組み合わせに対してK回繰り返す。最後にそれぞれの回で導き出した精度の平均値をもって性能評価とする"
   ]
  },
  {
   "cell_type": "markdown",
   "metadata": {},
   "source": [
    "## KFoldについて記述せよ\n",
    "今回はKFold(K-分割交差検証)を使用して、検証を行います。\n",
    "以下の観点をすべて含めて記述しましょう。\n",
    "\n",
    "- K-分割交差検証について説明せよ\n",
    "- K-分割交差検証はデータセットを何個に分割するか\n",
    "- データセットを分割する際、その個数はどのように考えると良いか\n",
    "- K-分割交差検証は何回の検証を行うか\n",
    "- K-分割交差検証の結果は、最終的にどのように求められるか"
   ]
  },
  {
   "cell_type": "markdown",
   "metadata": {},
   "source": [
    "### K-分割交差検証について説明せよ\n",
    "　手許のデータのうち、いくらかを学習データ、残りをテストデータにして性能評価を行う検証方法\n",
    "\n",
    "### K-分割交差検証はデータセットを何個に分割するか\n",
    "データをk個に分割する\n",
    "\n",
    "### データセットを分割する際、その個数はどのように考えると良いか\n",
    "十分な数のデータがある場合には、k=5, 10程度にすることが一般的であり、データが少ない場合には、k=全件として性能評価の品質確保を図る\n",
    "\n",
    "### K-分割交差検証は何回の検証を行うか\n",
    "そのk通りの訓練およびテストを行う\n",
    "\n",
    "### K-分割交差検証の結果は、最終的にどのように求められるか\n",
    "各回の性能評価結果の平均値をもって、最終的な性能評価とする"
   ]
  },
  {
   "cell_type": "markdown",
   "metadata": {},
   "source": [
    "## KFoldを実施する\n",
    "http://scikit-learn.org/stable/modules/generated/sklearn.model_selection.KFold.html\n",
    "sklearn.model_selection.KFoldを使用して、KFoldを実施しましょう\n",
    "## Kfoldの結果を確認する\n",
    "Kfoldの結果(Mean Accuracy)が75%以上になっていれば成功です。\n",
    "そうでなければ、再度モデルのチューニングを行いましょう。"
   ]
  },
  {
   "cell_type": "code",
   "execution_count": 18,
   "metadata": {
    "collapsed": false
   },
   "outputs": [
    {
     "name": "stdout",
     "output_type": "stream",
     "text": [
      "0.779937578027\n"
     ]
    }
   ],
   "source": [
    "import numpy as np\n",
    "from sklearn.model_selection import KFold\n",
    "\n",
    "# 改めてデータセットをつくる\n",
    "X = data_train.drop(['Survived', 'PassengerId'], axis=1)\n",
    "y = data_train['Survived']\n",
    "\n",
    "# 配列化する\n",
    "mX = X.as_matrix()\n",
    "my = y.as_matrix()\n",
    "\n",
    "# 先述の「チューニング」でaccuracyが高かったハイパーパラメータで、\n",
    "# ランダムフォレストのインスタンスをつくる\n",
    "clf = RandomForestClassifier(random_state=0, \n",
    "                             n_estimators=4, \n",
    "                             max_features='log2', \n",
    "                             criterion='gini', \n",
    "                             max_depth=3, \n",
    "                             min_samples_split=5, \n",
    "                             min_samples_leaf=8)\n",
    "\n",
    "# k = 10 でKfold\n",
    "kf = KFold(n_splits=10, random_state=0, shuffle=True)\n",
    "\n",
    "# Kfoldで分割したインデクスでデータを切りわけ、\n",
    "# 学習データで学習、テストデータでAccuracy算出、リストに格納\n",
    "acc_list = []\n",
    "for train_index, test_index in kf.split(X):\n",
    "    clf.fit(mX[train_index], my[train_index])\n",
    "    acc_list.append(clf.score(mX[test_index], my[test_index]))\n",
    "\n",
    "# Accuracyの平均を出力\n",
    "print(sum(acc_list)/len(acc_list))"
   ]
  },
  {
   "cell_type": "markdown",
   "metadata": {},
   "source": [
    "## どの特徴量が重要であったかを調査する\n",
    "sklearnでランダムフォレストを実装すると用意にどのどの特徴量が重要であったかを判明させることができます。\n",
    "feature_importances_メソッドを使用して、判明させましょう。"
   ]
  },
  {
   "cell_type": "code",
   "execution_count": 19,
   "metadata": {
    "collapsed": false
   },
   "outputs": [
    {
     "data": {
      "text/html": [
       "<div>\n",
       "<table border=\"1\" class=\"dataframe\">\n",
       "  <thead>\n",
       "    <tr style=\"text-align: right;\">\n",
       "      <th></th>\n",
       "      <th>important</th>\n",
       "    </tr>\n",
       "  </thead>\n",
       "  <tbody>\n",
       "    <tr>\n",
       "      <th>Sex</th>\n",
       "      <td>0.389816</td>\n",
       "    </tr>\n",
       "    <tr>\n",
       "      <th>Cabin</th>\n",
       "      <td>0.238995</td>\n",
       "    </tr>\n",
       "    <tr>\n",
       "      <th>NamePrefix</th>\n",
       "      <td>0.146130</td>\n",
       "    </tr>\n",
       "    <tr>\n",
       "      <th>Pclass</th>\n",
       "      <td>0.115397</td>\n",
       "    </tr>\n",
       "    <tr>\n",
       "      <th>SibSp</th>\n",
       "      <td>0.044348</td>\n",
       "    </tr>\n",
       "    <tr>\n",
       "      <th>Lname</th>\n",
       "      <td>0.026112</td>\n",
       "    </tr>\n",
       "    <tr>\n",
       "      <th>Age</th>\n",
       "      <td>0.023481</td>\n",
       "    </tr>\n",
       "    <tr>\n",
       "      <th>Parch</th>\n",
       "      <td>0.015721</td>\n",
       "    </tr>\n",
       "    <tr>\n",
       "      <th>Fare</th>\n",
       "      <td>0.000000</td>\n",
       "    </tr>\n",
       "  </tbody>\n",
       "</table>\n",
       "</div>"
      ],
      "text/plain": [
       "            important\n",
       "Sex          0.389816\n",
       "Cabin        0.238995\n",
       "NamePrefix   0.146130\n",
       "Pclass       0.115397\n",
       "SibSp        0.044348\n",
       "Lname        0.026112\n",
       "Age          0.023481\n",
       "Parch        0.015721\n",
       "Fare         0.000000"
      ]
     },
     "execution_count": 19,
     "metadata": {},
     "output_type": "execute_result"
    }
   ],
   "source": [
    "pd.DataFrame(clf.feature_importances_, index=X.columns, columns=['important']).\\\n",
    "sort_values(by='important', ascending=False)"
   ]
  },
  {
   "cell_type": "code",
   "execution_count": null,
   "metadata": {
    "collapsed": true
   },
   "outputs": [],
   "source": []
  }
 ],
 "metadata": {
  "kernelspec": {
   "display_name": "Python 3",
   "language": "python",
   "name": "python3"
  },
  "language_info": {
   "codemirror_mode": {
    "name": "ipython",
    "version": 3
   },
   "file_extension": ".py",
   "mimetype": "text/x-python",
   "name": "python",
   "nbconvert_exporter": "python",
   "pygments_lexer": "ipython3",
   "version": "3.6.0"
  }
 },
 "nbformat": 4,
 "nbformat_minor": 2
}
