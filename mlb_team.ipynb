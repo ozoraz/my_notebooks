{
 "cells": [
  {
   "cell_type": "markdown",
   "metadata": {},
   "source": [
    "# MLBデータ探索\n",
    "- [MLBデータサイトの統計データ](http://www.seanlahman.com/baseball-archive/statistics/)から「Download 2016 Version」「2016 – comma-delimited version」を取得\n",
    "- この中から、データ探索対象をTeams.csvに絞る"
   ]
  },
  {
   "cell_type": "code",
   "execution_count": 1,
   "metadata": {
    "collapsed": false
   },
   "outputs": [],
   "source": [
    "import pandas as pd\n",
    "import seaborn as sns\n",
    "import matplotlib.pyplot as plt\n",
    "%matplotlib inline\n",
    "\n",
    "mlb_team = pd.read_csv('./core/Teams.csv')"
   ]
  },
  {
   "cell_type": "markdown",
   "metadata": {},
   "source": [
    "# ①ランキングと勝敗の関係は？\n",
    "- 各ランクごとの、勝利数平均、敗北数平均を出してみた"
   ]
  },
  {
   "cell_type": "code",
   "execution_count": 2,
   "metadata": {
    "collapsed": false
   },
   "outputs": [
    {
     "data": {
      "text/html": [
       "<div>\n",
       "<table border=\"1\" class=\"dataframe\">\n",
       "  <thead>\n",
       "    <tr style=\"text-align: right;\">\n",
       "      <th></th>\n",
       "      <th>Rank</th>\n",
       "      <th>W</th>\n",
       "    </tr>\n",
       "  </thead>\n",
       "  <tbody>\n",
       "    <tr>\n",
       "      <th>0</th>\n",
       "      <td>1</td>\n",
       "      <td>92.901914</td>\n",
       "    </tr>\n",
       "    <tr>\n",
       "      <th>1</th>\n",
       "      <td>2</td>\n",
       "      <td>86.102564</td>\n",
       "    </tr>\n",
       "    <tr>\n",
       "      <th>2</th>\n",
       "      <td>3</td>\n",
       "      <td>80.431655</td>\n",
       "    </tr>\n",
       "    <tr>\n",
       "      <th>3</th>\n",
       "      <td>4</td>\n",
       "      <td>74.866667</td>\n",
       "    </tr>\n",
       "    <tr>\n",
       "      <th>4</th>\n",
       "      <td>5</td>\n",
       "      <td>69.807107</td>\n",
       "    </tr>\n",
       "    <tr>\n",
       "      <th>5</th>\n",
       "      <td>6</td>\n",
       "      <td>64.741497</td>\n",
       "    </tr>\n",
       "    <tr>\n",
       "      <th>6</th>\n",
       "      <td>7</td>\n",
       "      <td>59.439614</td>\n",
       "    </tr>\n",
       "    <tr>\n",
       "      <th>8</th>\n",
       "      <td>9</td>\n",
       "      <td>52.354839</td>\n",
       "    </tr>\n",
       "    <tr>\n",
       "      <th>7</th>\n",
       "      <td>8</td>\n",
       "      <td>50.775862</td>\n",
       "    </tr>\n",
       "    <tr>\n",
       "      <th>9</th>\n",
       "      <td>10</td>\n",
       "      <td>49.192308</td>\n",
       "    </tr>\n",
       "    <tr>\n",
       "      <th>10</th>\n",
       "      <td>11</td>\n",
       "      <td>33.615385</td>\n",
       "    </tr>\n",
       "    <tr>\n",
       "      <th>11</th>\n",
       "      <td>12</td>\n",
       "      <td>31.400000</td>\n",
       "    </tr>\n",
       "    <tr>\n",
       "      <th>12</th>\n",
       "      <td>13</td>\n",
       "      <td>6.500000</td>\n",
       "    </tr>\n",
       "  </tbody>\n",
       "</table>\n",
       "</div>"
      ],
      "text/plain": [
       "    Rank          W\n",
       "0      1  92.901914\n",
       "1      2  86.102564\n",
       "2      3  80.431655\n",
       "3      4  74.866667\n",
       "4      5  69.807107\n",
       "5      6  64.741497\n",
       "6      7  59.439614\n",
       "8      9  52.354839\n",
       "7      8  50.775862\n",
       "9     10  49.192308\n",
       "10    11  33.615385\n",
       "11    12  31.400000\n",
       "12    13   6.500000"
      ]
     },
     "execution_count": 2,
     "metadata": {},
     "output_type": "execute_result"
    }
   ],
   "source": [
    "mlb_team[['Rank', 'W']].groupby(['Rank'], as_index=False)\\\n",
    ".mean().sort_values(by='W', ascending=False)"
   ]
  },
  {
   "cell_type": "code",
   "execution_count": 3,
   "metadata": {
    "collapsed": false
   },
   "outputs": [
    {
     "data": {
      "text/html": [
       "<div>\n",
       "<table border=\"1\" class=\"dataframe\">\n",
       "  <thead>\n",
       "    <tr style=\"text-align: right;\">\n",
       "      <th></th>\n",
       "      <th>Rank</th>\n",
       "      <th>L</th>\n",
       "    </tr>\n",
       "  </thead>\n",
       "  <tbody>\n",
       "    <tr>\n",
       "      <th>7</th>\n",
       "      <td>8</td>\n",
       "      <td>91.856322</td>\n",
       "    </tr>\n",
       "    <tr>\n",
       "      <th>11</th>\n",
       "      <td>12</td>\n",
       "      <td>91.400000</td>\n",
       "    </tr>\n",
       "    <tr>\n",
       "      <th>6</th>\n",
       "      <td>7</td>\n",
       "      <td>86.072464</td>\n",
       "    </tr>\n",
       "    <tr>\n",
       "      <th>5</th>\n",
       "      <td>6</td>\n",
       "      <td>83.666667</td>\n",
       "    </tr>\n",
       "    <tr>\n",
       "      <th>9</th>\n",
       "      <td>10</td>\n",
       "      <td>83.653846</td>\n",
       "    </tr>\n",
       "    <tr>\n",
       "      <th>4</th>\n",
       "      <td>5</td>\n",
       "      <td>81.451777</td>\n",
       "    </tr>\n",
       "    <tr>\n",
       "      <th>3</th>\n",
       "      <td>4</td>\n",
       "      <td>77.404762</td>\n",
       "    </tr>\n",
       "    <tr>\n",
       "      <th>8</th>\n",
       "      <td>9</td>\n",
       "      <td>75.645161</td>\n",
       "    </tr>\n",
       "    <tr>\n",
       "      <th>2</th>\n",
       "      <td>3</td>\n",
       "      <td>71.071942</td>\n",
       "    </tr>\n",
       "    <tr>\n",
       "      <th>10</th>\n",
       "      <td>11</td>\n",
       "      <td>70.846154</td>\n",
       "    </tr>\n",
       "    <tr>\n",
       "      <th>1</th>\n",
       "      <td>2</td>\n",
       "      <td>65.983683</td>\n",
       "    </tr>\n",
       "    <tr>\n",
       "      <th>0</th>\n",
       "      <td>1</td>\n",
       "      <td>59.177033</td>\n",
       "    </tr>\n",
       "    <tr>\n",
       "      <th>12</th>\n",
       "      <td>13</td>\n",
       "      <td>31.500000</td>\n",
       "    </tr>\n",
       "  </tbody>\n",
       "</table>\n",
       "</div>"
      ],
      "text/plain": [
       "    Rank          L\n",
       "7      8  91.856322\n",
       "11    12  91.400000\n",
       "6      7  86.072464\n",
       "5      6  83.666667\n",
       "9     10  83.653846\n",
       "4      5  81.451777\n",
       "3      4  77.404762\n",
       "8      9  75.645161\n",
       "2      3  71.071942\n",
       "10    11  70.846154\n",
       "1      2  65.983683\n",
       "0      1  59.177033\n",
       "12    13  31.500000"
      ]
     },
     "execution_count": 3,
     "metadata": {},
     "output_type": "execute_result"
    }
   ],
   "source": [
    "mlb_team[['Rank', 'L']].groupby(['Rank'], as_index=False)\\\n",
    ".mean().sort_values(by='L', ascending=False)"
   ]
  },
  {
   "cell_type": "markdown",
   "metadata": {},
   "source": [
    "ランクと勝利数は、ランクが上がれば勝利数が上がる正の相関関係にあることがわかる。他方、ランクと敗北数はランクが上がれば敗北数が下がる、あるいは上がるといった単純な相関関係に無いことがわかる。  \n",
    "このことから、もしもランクをあげることが目的であるならば、同点で迎えた延長戦などの状況では「負けを気にせず思い切って勝利を取りにいく戦略」が良さそうである"
   ]
  },
  {
   "cell_type": "markdown",
   "metadata": {},
   "source": [
    "# ②ランキングとヒットの関係は？\n",
    "- 各ランクごとの、ヒット数平均を出してみた"
   ]
  },
  {
   "cell_type": "code",
   "execution_count": 4,
   "metadata": {
    "collapsed": false
   },
   "outputs": [
    {
     "data": {
      "text/html": [
       "<div>\n",
       "<table border=\"1\" class=\"dataframe\">\n",
       "  <thead>\n",
       "    <tr style=\"text-align: right;\">\n",
       "      <th></th>\n",
       "      <th>Rank</th>\n",
       "      <th>H</th>\n",
       "    </tr>\n",
       "  </thead>\n",
       "  <tbody>\n",
       "    <tr>\n",
       "      <th>0</th>\n",
       "      <td>1</td>\n",
       "      <td>1418.265550</td>\n",
       "    </tr>\n",
       "    <tr>\n",
       "      <th>1</th>\n",
       "      <td>2</td>\n",
       "      <td>1391.601399</td>\n",
       "    </tr>\n",
       "    <tr>\n",
       "      <th>2</th>\n",
       "      <td>3</td>\n",
       "      <td>1380.014388</td>\n",
       "    </tr>\n",
       "    <tr>\n",
       "      <th>3</th>\n",
       "      <td>4</td>\n",
       "      <td>1370.938095</td>\n",
       "    </tr>\n",
       "    <tr>\n",
       "      <th>4</th>\n",
       "      <td>5</td>\n",
       "      <td>1343.319797</td>\n",
       "    </tr>\n",
       "    <tr>\n",
       "      <th>5</th>\n",
       "      <td>6</td>\n",
       "      <td>1300.176871</td>\n",
       "    </tr>\n",
       "    <tr>\n",
       "      <th>6</th>\n",
       "      <td>7</td>\n",
       "      <td>1278.961353</td>\n",
       "    </tr>\n",
       "    <tr>\n",
       "      <th>7</th>\n",
       "      <td>8</td>\n",
       "      <td>1230.287356</td>\n",
       "    </tr>\n",
       "    <tr>\n",
       "      <th>9</th>\n",
       "      <td>10</td>\n",
       "      <td>1129.076923</td>\n",
       "    </tr>\n",
       "    <tr>\n",
       "      <th>11</th>\n",
       "      <td>12</td>\n",
       "      <td>1120.600000</td>\n",
       "    </tr>\n",
       "    <tr>\n",
       "      <th>8</th>\n",
       "      <td>9</td>\n",
       "      <td>1095.354839</td>\n",
       "    </tr>\n",
       "    <tr>\n",
       "      <th>10</th>\n",
       "      <td>11</td>\n",
       "      <td>931.769231</td>\n",
       "    </tr>\n",
       "    <tr>\n",
       "      <th>12</th>\n",
       "      <td>13</td>\n",
       "      <td>257.500000</td>\n",
       "    </tr>\n",
       "  </tbody>\n",
       "</table>\n",
       "</div>"
      ],
      "text/plain": [
       "    Rank            H\n",
       "0      1  1418.265550\n",
       "1      2  1391.601399\n",
       "2      3  1380.014388\n",
       "3      4  1370.938095\n",
       "4      5  1343.319797\n",
       "5      6  1300.176871\n",
       "6      7  1278.961353\n",
       "7      8  1230.287356\n",
       "9     10  1129.076923\n",
       "11    12  1120.600000\n",
       "8      9  1095.354839\n",
       "10    11   931.769231\n",
       "12    13   257.500000"
      ]
     },
     "execution_count": 4,
     "metadata": {},
     "output_type": "execute_result"
    }
   ],
   "source": [
    "mlb_team[['Rank', 'H']].groupby(['Rank'], as_index=False)\\\n",
    ".mean().sort_values(by='H', ascending=False)"
   ]
  },
  {
   "cell_type": "markdown",
   "metadata": {},
   "source": [
    "概ね、ランクが上がればヒット数が上がる正の相関関係にあることがわかる。もしもランクをあげることが目的であるならば、とにかくヒットを出すことが良さそうであり、なにはなくともヒットを出せる選手を入れることがランクをあげることに繋がる、と言えそうである"
   ]
  },
  {
   "cell_type": "markdown",
   "metadata": {},
   "source": [
    "# ③ホームランと勝利の関係は？\n",
    "- 横軸にホームラン数、縦軸に勝利数で、散布図を出してみた"
   ]
  },
  {
   "cell_type": "code",
   "execution_count": 5,
   "metadata": {
    "collapsed": false
   },
   "outputs": [
    {
     "data": {
      "image/png": "[encoded data removed]",
      "text/plain": [
       "<matplotlib.figure.Figure at 0x11554eb38>"
      ]
     },
     "metadata": {},
     "output_type": "display_data"
    }
   ],
   "source": [
    "sns.jointplot(x=\"HR\", y=\"W\", data=mlb_team)"
   ]
  },
  {
   "cell_type": "markdown",
   "metadata": {},
   "source": [
    "勝利数は正規分布に近く、ホームラン数は山が２つのよく分からない分布である。  \n",
    "散布の状態から、勝利数がある一定以上であれば、ホームラン数が多くなることがわかる。つまり、ホームラン数がいくら多くても、勝利数が上がるとは限らないことになる。  \n",
    "ならばなぜ、ホームラン、及びホームランバッターは野球において注目されるのか？"
   ]
  },
  {
   "cell_type": "markdown",
   "metadata": {},
   "source": [
    "# ④最も勝利数に貢献するのは何か？\n",
    "- 各年で、勝利数に最も強く正の相関を示す列名を出す。例えば、１８７１年は得点'R'\n",
    "- 上で出した列名毎にyearIDをカウントし、多い順に３つ出してみた　　"
   ]
  },
  {
   "cell_type": "code",
   "execution_count": 18,
   "metadata": {
    "collapsed": false
   },
   "outputs": [
    {
     "data": {
      "text/html": [
       "<div>\n",
       "<table border=\"1\" class=\"dataframe\">\n",
       "  <thead>\n",
       "    <tr style=\"text-align: right;\">\n",
       "      <th></th>\n",
       "      <th>yearID</th>\n",
       "    </tr>\n",
       "    <tr>\n",
       "      <th>the Factors</th>\n",
       "      <th></th>\n",
       "    </tr>\n",
       "  </thead>\n",
       "  <tbody>\n",
       "    <tr>\n",
       "      <th>R</th>\n",
       "      <td>64</td>\n",
       "    </tr>\n",
       "    <tr>\n",
       "      <th>attendance</th>\n",
       "      <td>28</td>\n",
       "    </tr>\n",
       "    <tr>\n",
       "      <th>SV</th>\n",
       "      <td>19</td>\n",
       "    </tr>\n",
       "  </tbody>\n",
       "</table>\n",
       "</div>"
      ],
      "text/plain": [
       "             yearID\n",
       "the Factors        \n",
       "R                64\n",
       "attendance       28\n",
       "SV               19"
      ]
     },
     "execution_count": 18,
     "metadata": {},
     "output_type": "execute_result"
    }
   ],
   "source": [
    "# 'yearID'列をとりだし、全行を一旦リストにして、その後、\n",
    "# 集合にして重複を無くしてから、再びリストにする\n",
    "col = 'yearID'\n",
    "cuts = list(set(mlb_team[[col]].values.flatten()))\n",
    "\n",
    "# col_factorsリストに、\n",
    "# 各年と、各年毎に勝利数に最も強く正の相関を示す列名を格納する\n",
    "col_factors = []\n",
    "for cut in cuts:\n",
    "    cut_mlb_team = mlb_team[mlb_team[col].isin([cut])]\n",
    "    col_factors.append([str(cut), cut_mlb_team.corr().loc['W'].drop(['W']).\\\n",
    "                    sort_values(ascending=False).head(1).index.values[0]])\n",
    "\n",
    "# 上記で格納した列名を'the　Factors'としてgroupby。\n",
    "# col_factorsリスト内の個数を集計し、多い順に３つ出す\n",
    "pd.DataFrame(col_factors).rename(columns={0: col, 1: 'the Factors'}).\\\n",
    "groupby(['the Factors']).count().sort_values(by=col, ascending=False).head(3)"
   ]
  },
  {
   "cell_type": "markdown",
   "metadata": {},
   "source": [
    "1位が得点'R'はいかにもだが、2位がホーム観客総動員数'attendance'は意外に感じた。  \n",
    "3位が「救援投手が最後までリードを守りきった回数」'SV'、投手の力量を測る重要指標  \n",
    "\n",
    "ここで、③における疑問「なぜ、ホームラン、及びホームランバッターは野球において注目されるのか？」について１つ合点が行く答えが見えてくる。ホームラン自体は直接勝利数に貢献しないが、おそらくはattendanceに貢献するのだろう。ホームランで人気を稼げば、attendanceが上がり、attendanceが上がれば、勝利数に貢献するのだ。だからこそ、地味に得点を取れる選手と、attendanceを取れるホームランバッターの両方が、選手獲得において重要なのだ"
   ]
  },
  {
   "cell_type": "markdown",
   "metadata": {},
   "source": [
    "# ⑤最もattendanceに貢献するのは何か？\n",
    "- 勝利数の場合と同様にして、多い順に３つ出してみた\n",
    "- また、最も強く負の相関を示すものについても出してみた"
   ]
  },
  {
   "cell_type": "code",
   "execution_count": 7,
   "metadata": {
    "collapsed": false
   },
   "outputs": [
    {
     "data": {
      "text/html": [
       "<div>\n",
       "<table border=\"1\" class=\"dataframe\">\n",
       "  <thead>\n",
       "    <tr style=\"text-align: right;\">\n",
       "      <th></th>\n",
       "      <th>yearID</th>\n",
       "    </tr>\n",
       "    <tr>\n",
       "      <th>the Factors</th>\n",
       "      <th></th>\n",
       "    </tr>\n",
       "  </thead>\n",
       "  <tbody>\n",
       "    <tr>\n",
       "      <th>W</th>\n",
       "      <td>65</td>\n",
       "    </tr>\n",
       "    <tr>\n",
       "      <th>yearID</th>\n",
       "      <td>19</td>\n",
       "    </tr>\n",
       "    <tr>\n",
       "      <th>HR</th>\n",
       "      <td>7</td>\n",
       "    </tr>\n",
       "  </tbody>\n",
       "</table>\n",
       "</div>"
      ],
      "text/plain": [
       "             yearID\n",
       "the Factors        \n",
       "W                65\n",
       "yearID           19\n",
       "HR                7"
      ]
     },
     "execution_count": 7,
     "metadata": {},
     "output_type": "execute_result"
    }
   ],
   "source": [
    "# 'yearID'列をとりだし、全行を一旦リストにして、その後、\n",
    "# 集合にして重複を無くしてから、再びリストにする\n",
    "col = 'yearID'\n",
    "cuts = list(set(mlb_team[[col]].values.flatten()))\n",
    "\n",
    "# col_factorsリストに、\n",
    "# 各年と、各年毎にattendanceに最も強く正の相関を示す列名を格納する\n",
    "col_factors = []\n",
    "for cut in cuts:\n",
    "    cut_mlb_team = mlb_team[mlb_team[col].isin([cut])]\n",
    "    col_factors.append([str(cut), cut_mlb_team.corr().loc['attendance'].\\\n",
    "                        drop(['attendance']).sort_values(ascending=False).\\\n",
    "                        head(1).index.values[0]])\n",
    "\n",
    "# 上記で格納した列名を'the　Factors'としてgroupby。\n",
    "# col_factorsリスト内の個数を集計し、多い順に３つ出す\n",
    "pd.DataFrame(col_factors).rename(columns={0: col, 1: 'the Factors'}).\\\n",
    "groupby(['the Factors']).count().sort_values(by=col, ascending=False).head(3)"
   ]
  },
  {
   "cell_type": "code",
   "execution_count": 8,
   "metadata": {
    "collapsed": false
   },
   "outputs": [
    {
     "data": {
      "text/html": [
       "<div>\n",
       "<table border=\"1\" class=\"dataframe\">\n",
       "  <thead>\n",
       "    <tr style=\"text-align: right;\">\n",
       "      <th></th>\n",
       "      <th>yearID</th>\n",
       "    </tr>\n",
       "    <tr>\n",
       "      <th>the Factors</th>\n",
       "      <th></th>\n",
       "    </tr>\n",
       "  </thead>\n",
       "  <tbody>\n",
       "    <tr>\n",
       "      <th>W</th>\n",
       "      <td>65</td>\n",
       "    </tr>\n",
       "    <tr>\n",
       "      <th>yearID</th>\n",
       "      <td>19</td>\n",
       "    </tr>\n",
       "    <tr>\n",
       "      <th>HR</th>\n",
       "      <td>7</td>\n",
       "    </tr>\n",
       "  </tbody>\n",
       "</table>\n",
       "</div>"
      ],
      "text/plain": [
       "             yearID\n",
       "the Factors        \n",
       "W                65\n",
       "yearID           19\n",
       "HR                7"
      ]
     },
     "execution_count": 8,
     "metadata": {},
     "output_type": "execute_result"
    }
   ],
   "source": [
    "# 'yearID'列をとりだし、全行を一旦リストにして、その後、\n",
    "# 集合にして重複を無くしてから、再びリストにする\n",
    "col = 'yearID'\n",
    "cuts = list(set(mlb_team[[col]].values.flatten()))\n",
    "\n",
    "# col_factorsリストに、\n",
    "# 各年と、各年毎にattendanceに最も強く負の相関を示す列名を格納する\n",
    "col_factors = []\n",
    "for cut in cuts:\n",
    "    cut_mlb_team = mlb_team[mlb_team[col].isin([cut])]\n",
    "    col_factors.append([str(cut), cut_mlb_team.corr().loc['attendance'].\\\n",
    "                        drop(['attendance']).sort_values(ascending=False).\\\n",
    "                        head(1).index.values[0]])\n",
    "\n",
    "# 上記で格納した列名を'the　Factors'としてgroupby。\n",
    "# col_factorsリスト内の個数を集計し、多い順に３つ出す\n",
    "pd.DataFrame(col_factors).rename(columns={0: col, 1: 'the Factors'}).\\\n",
    "groupby(['the Factors']).count().sort_values(by=col, ascending=False).head(3)"
   ]
  },
  {
   "cell_type": "markdown",
   "metadata": {},
   "source": [
    "1位はやっぱり勝利数'W'。2位が年'yearID'というのは、勝利数以外の項目がほとんど相関していないということか。あるいは、年毎にばらけているのだろう。  \n",
    "ところで、逆に最もattendanceに対して負の相関を示す項目をみてみると、犠牲フライ'SF'がダントツの１位。来場者を増やしたければ、犠牲フライはやらない方がいい、ということか"
   ]
  },
  {
   "cell_type": "markdown",
   "metadata": {},
   "source": [
    "# ⑥MLB全体の、attendance推移は？"
   ]
  },
  {
   "cell_type": "code",
   "execution_count": 9,
   "metadata": {
    "collapsed": false,
    "scrolled": false
   },
   "outputs": [
    {
     "data": {
      "text/plain": [
       "[<matplotlib.lines.Line2D at 0x1194b3320>]"
      ]
     },
     "execution_count": 9,
     "metadata": {},
     "output_type": "execute_result"
    },
    {
     "data": {
      "image/png": "[encoded data removed]",
      "text/plain": [
       "<matplotlib.figure.Figure at 0x119383390>"
      ]
     },
     "metadata": {},
     "output_type": "display_data"
    }
   ],
   "source": [
    "year_atte = mlb_team[['yearID', 'attendance']].\\\n",
    "groupby(['yearID'], as_index=False).sum().dropna()\n",
    "\n",
    "plt.plot(year_atte[['yearID']], year_atte[['attendance']])"
   ]
  },
  {
   "cell_type": "markdown",
   "metadata": {},
   "source": [
    "大局的には上昇が続いていたが、２０１０年の少し前をピークに横ばいの傾向が見て取れる"
   ]
  },
  {
   "cell_type": "markdown",
   "metadata": {},
   "source": [
    "# ⑦MLB全体の、守備率(Fielding  percentage)推移は？"
   ]
  },
  {
   "cell_type": "code",
   "execution_count": 10,
   "metadata": {
    "collapsed": false,
    "scrolled": true
   },
   "outputs": [
    {
     "data": {
      "text/plain": [
       "[<matplotlib.lines.Line2D at 0x1194d91d0>]"
      ]
     },
     "execution_count": 10,
     "metadata": {},
     "output_type": "execute_result"
    },
    {
     "data": {
      "image/png": "[encoded data removed]",
      "text/plain": [
       "<matplotlib.figure.Figure at 0x119549f60>"
      ]
     },
     "metadata": {},
     "output_type": "display_data"
    }
   ],
   "source": [
    "year_fp = mlb_team[['yearID', 'FP']].\\\n",
    "groupby(['yearID'], as_index=False).mean().dropna()\n",
    "\n",
    "plt.plot(year_fp[['yearID']], year_fp[['FP']])"
   ]
  },
  {
   "cell_type": "markdown",
   "metadata": {},
   "source": [
    "１８００年代末期から１９００年代初期にかけて急激に良くなる。以後は緩やかな上昇傾向"
   ]
  },
  {
   "cell_type": "markdown",
   "metadata": {},
   "source": [
    "# ⑧勝利数と集客力(attendance)の二軸で、各チームを比較\n",
    "- 縦軸は集客数平均、横軸は勝利数平均、各点注釈をチームIDとして、散布図を描く"
   ]
  },
  {
   "cell_type": "code",
   "execution_count": 11,
   "metadata": {
    "collapsed": false
   },
   "outputs": [
    {
     "data": {
      "image/png": "[encoded data removed]",
      "text/plain": [
       "<matplotlib.figure.Figure at 0x1190fb6a0>"
      ]
     },
     "metadata": {},
     "output_type": "display_data"
    }
   ],
   "source": [
    "# teamIDを芯にして、各チームの勝利数平均、集客数平均を結合。面倒なのでdropna\n",
    "team_win = mlb_team[['teamID', 'W']].groupby(['teamID']).mean()\n",
    "team_atte = mlb_team[['teamID', 'attendance']].groupby(['teamID']).mean()\n",
    "team_win_atte = team_win.join(team_atte, how='inner').dropna()\n",
    "\n",
    "# 散布図を描画。indexを各要素のラベルとして貼る\n",
    "scat = team_win_atte.plot.scatter(x='W',y='attendance')\n",
    "for i, j in team_win_atte.iterrows():\n",
    "    scat.annotate(i, xy=(j[0],j[1]), size=10)"
   ]
  },
  {
   "cell_type": "markdown",
   "metadata": {},
   "source": [
    "さすがに、右上に有名どころが集中している。\n",
    "- LAN: Los Angeles Dodgers  \n",
    "- LAA: Los Angeles Angels of Anaheim  \n",
    "- COL: Colorado Rockies  \n",
    "- NYA: New York Yankees  \n",
    "- ML1: Milwaukee Braves"
   ]
  },
  {
   "cell_type": "markdown",
   "metadata": {},
   "source": [
    "# ⑨エラー数とヒット数の二軸で、一般チームとWS勝者チームを比較\n",
    "- 縦軸はエラー数、横軸はヒット数として、散布図を描く。向かって左が一般、右が勝者"
   ]
  },
  {
   "cell_type": "code",
   "execution_count": 12,
   "metadata": {
    "collapsed": false
   },
   "outputs": [
    {
     "data": {
      "text/plain": [
       "<seaborn.axisgrid.FacetGrid at 0x11947b4a8>"
      ]
     },
     "execution_count": 12,
     "metadata": {},
     "output_type": "execute_result"
    },
    {
     "data": {
      "image/png": "[encoded data removed]",
      "text/plain": [
       "<matplotlib.figure.Figure at 0x11969e4e0>"
      ]
     },
     "metadata": {},
     "output_type": "display_data"
    }
   ],
   "source": [
    "grid = sns.FacetGrid(mlb_team[['WSWin', 'H', 'E']].dropna(), \\\n",
    "                     col='WSWin', size=3, aspect=1)\n",
    "grid.map(plt.scatter, 'H', 'E')"
   ]
  },
  {
   "cell_type": "markdown",
   "metadata": {},
   "source": [
    "勝者チームは、エラーが少なく、ヒットが多い。まともな結果"
   ]
  },
  {
   "cell_type": "markdown",
   "metadata": {},
   "source": [
    "# ⑩盗塁成功数と盗塁失敗数の二軸で、一般チームとWS勝者チームを比較\n",
    "- 縦軸は盗塁成功数、横軸は盗塁失敗数として、散布図を描く。向かって左が一般、右が勝者"
   ]
  },
  {
   "cell_type": "code",
   "execution_count": 13,
   "metadata": {
    "collapsed": false
   },
   "outputs": [
    {
     "data": {
      "text/plain": [
       "<seaborn.axisgrid.FacetGrid at 0x1198412b0>"
      ]
     },
     "execution_count": 13,
     "metadata": {},
     "output_type": "execute_result"
    },
    {
     "data": {
      "image/png": "[encoded data removed]",
      "text/plain": [
       "<matplotlib.figure.Figure at 0x11974c438>"
      ]
     },
     "metadata": {},
     "output_type": "display_data"
    }
   ],
   "source": [
    "grid = sns.FacetGrid(mlb_team[['WSWin', 'CS', 'SB']].dropna(), \\\n",
    "                     col='WSWin', size=3, aspect=1)\n",
    "grid.map(plt.scatter, 'CS', 'SB')"
   ]
  },
  {
   "cell_type": "markdown",
   "metadata": {},
   "source": [
    "勝者チームは、盗塁成功も盗塁失敗も若干少ない。あまり盗塁しないのが勝者の秘訣か"
   ]
  }
 ],
 "metadata": {
  "kernelspec": {
   "display_name": "Python 3",
   "language": "python",
   "name": "python3"
  },
  "language_info": {
   "codemirror_mode": {
    "name": "ipython",
    "version": 3
   },
   "file_extension": ".py",
   "mimetype": "text/x-python",
   "name": "python",
   "nbconvert_exporter": "python",
   "pygments_lexer": "ipython3",
   "version": "3.6.0"
  }
 },
 "nbformat": 4,
 "nbformat_minor": 2
}
